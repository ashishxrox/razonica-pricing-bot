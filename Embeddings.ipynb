{
 "cells": [
  {
   "cell_type": "markdown",
   "id": "b48cf6b3-c5de-4fe2-83a6-69c43dace08e",
   "metadata": {},
   "source": [
    "## Fetching Data from CSV"
   ]
  },
  {
   "cell_type": "code",
   "execution_count": 1,
   "id": "e5217322-cbb0-4d81-837b-73716deadb98",
   "metadata": {},
   "outputs": [],
   "source": [
    "import pandas as pd\n",
    "import numpy as np\n",
    "import re\n",
    "from sklearn.preprocessing import MinMaxScaler, LabelEncoder\n",
    "import openai\n",
    "import json\n",
    "from tqdm import tqdm\n",
    "from dotenv import load_dotenv\n",
    "import os"
   ]
  },
  {
   "cell_type": "code",
   "execution_count": 2,
   "id": "73ad419b-7cc5-4e5e-b565-e7415f39b9e7",
   "metadata": {},
   "outputs": [
    {
     "data": {
      "text/html": [
       "<div>\n",
       "<style scoped>\n",
       "    .dataframe tbody tr th:only-of-type {\n",
       "        vertical-align: middle;\n",
       "    }\n",
       "\n",
       "    .dataframe tbody tr th {\n",
       "        vertical-align: top;\n",
       "    }\n",
       "\n",
       "    .dataframe thead th {\n",
       "        text-align: right;\n",
       "    }\n",
       "</style>\n",
       "<table border=\"1\" class=\"dataframe\">\n",
       "  <thead>\n",
       "    <tr style=\"text-align: right;\">\n",
       "      <th></th>\n",
       "      <th>Data ID</th>\n",
       "      <th>Product URL</th>\n",
       "      <th>Brand Name</th>\n",
       "      <th>Product Name</th>\n",
       "      <th>Rating</th>\n",
       "      <th>Rating Count</th>\n",
       "      <th>Price (INR)</th>\n",
       "      <th>Original Price (INR)</th>\n",
       "      <th>Discount</th>\n",
       "      <th>Badge</th>\n",
       "      <th>Date of Extraction</th>\n",
       "      <th>Product Details</th>\n",
       "      <th>About This Item</th>\n",
       "      <th>All Bullet Points</th>\n",
       "      <th>Additional Details</th>\n",
       "      <th>Brand Snapshot</th>\n",
       "      <th>Product and Seller Details</th>\n",
       "      <th>Product Description</th>\n",
       "    </tr>\n",
       "  </thead>\n",
       "  <tbody>\n",
       "    <tr>\n",
       "      <th>0</th>\n",
       "      <td>B0DCZ25LBC</td>\n",
       "      <td>https://www.amazon.in/Nermosa-Block-Printed-Ku...</td>\n",
       "      <td>Nermosa</td>\n",
       "      <td>Women Cotton Block Printed Kurta Pant With Dup...</td>\n",
       "      <td>4.1 out of 5 stars</td>\n",
       "      <td>1,438</td>\n",
       "      <td>₹599.0</td>\n",
       "      <td>₹4999.0</td>\n",
       "      <td>88% off</td>\n",
       "      <td>Amazon's</td>\n",
       "      <td>2025-06-05 15:44:42</td>\n",
       "      <td>{'Material composition': '100% Viscose', 'Leng...</td>\n",
       "      <td>{'Style Info': '★ Style :- Straight Kurta || S...</td>\n",
       "      <td>[★ Fit Type: Straight; Ethnic Sets : Straight ...</td>\n",
       "      <td>{'Manufacturer': 'Nermosa Fashion', 'Packer': ...</td>\n",
       "      <td>{'Brand Name': 'Nermosa', 'Top Brand Heading':...</td>\n",
       "      <td>{}</td>\n",
       "      <td></td>\n",
       "    </tr>\n",
       "    <tr>\n",
       "      <th>1</th>\n",
       "      <td>B0D2TZDWH5</td>\n",
       "      <td>https://www.amazon.in/Yashika-Fashionably-Trad...</td>\n",
       "      <td>Yashika</td>\n",
       "      <td>Women's Kurta Fashionably Traditional, Comfort...</td>\n",
       "      <td>3.7 out of 5 stars</td>\n",
       "      <td>476</td>\n",
       "      <td>₹649.0</td>\n",
       "      <td>₹2599.0</td>\n",
       "      <td>75% off</td>\n",
       "      <td></td>\n",
       "      <td>2025-06-05 15:44:42</td>\n",
       "      <td>{'Material composition': '100% Cotton Blend', ...</td>\n",
       "      <td>{'Style Info': 'Quality Craftsmanship: Crafted...</td>\n",
       "      <td>[Elegant Ensemble: A curated trio comprising a...</td>\n",
       "      <td>{'Country of Origin': 'India', 'Manufacturer':...</td>\n",
       "      <td>{'Brand Name': 'Yashika', 'Top Brand Heading':...</td>\n",
       "      <td>{}</td>\n",
       "      <td>Introducing Yashika Women's Ethnic Trio: a del...</td>\n",
       "    </tr>\n",
       "    <tr>\n",
       "      <th>2</th>\n",
       "      <td>B0DG5XZRZM</td>\n",
       "      <td>https://www.amazon.in/KLOSIA-Women-Printed-Kur...</td>\n",
       "      <td>KLOSIA</td>\n",
       "      <td>Women Printed Kurta and Pant Set with Dupatta</td>\n",
       "      <td>4.0 out of 5 stars</td>\n",
       "      <td>750</td>\n",
       "      <td>₹699.0</td>\n",
       "      <td>₹4999.0</td>\n",
       "      <td>86% off</td>\n",
       "      <td></td>\n",
       "      <td>2025-06-05 15:44:42</td>\n",
       "      <td>{'Material composition': '100% Viscose', 'Slee...</td>\n",
       "      <td>{'Style Info': 'Style :- Anarkali Kurta || Sle...</td>\n",
       "      <td>[Fit Type: Straight; Ethnic Sets: Anarkali Kur...</td>\n",
       "      <td>{'Manufacturer': 'KLOSIA', 'Packer': 'Klosia E...</td>\n",
       "      <td>{'Brand Name': 'KLOSIA', 'Top Brand Heading': ...</td>\n",
       "      <td>{}</td>\n",
       "      <td></td>\n",
       "    </tr>\n",
       "    <tr>\n",
       "      <th>3</th>\n",
       "      <td>B0DDXX1HS5</td>\n",
       "      <td>https://www.amazon.in/MEERA-FAB-Straight-Print...</td>\n",
       "      <td>MEERA FAB</td>\n",
       "      <td>Women's Cotton Blend Straight Printed Kurta wi...</td>\n",
       "      <td>3.5 out of 5 stars</td>\n",
       "      <td>98</td>\n",
       "      <td>₹789.0</td>\n",
       "      <td>₹2999.0</td>\n",
       "      <td>74% off</td>\n",
       "      <td></td>\n",
       "      <td>2025-06-05 15:44:42</td>\n",
       "      <td>{'Material composition': 'PURE COTTON', 'Sleev...</td>\n",
       "      <td>{'Fabric Info': 'Fabric Kurta :- Cotton , Pala...</td>\n",
       "      <td>[Size Chart- Kurta- XS- 34 in , S-36 in , M-38...</td>\n",
       "      <td>{'Country of Origin': 'India', 'Manufacturer':...</td>\n",
       "      <td>{'Brand Name': 'MEERA FAB', 'Top Brand Heading...</td>\n",
       "      <td>{}</td>\n",
       "      <td></td>\n",
       "    </tr>\n",
       "    <tr>\n",
       "      <th>4</th>\n",
       "      <td>B0DQCL9XGC</td>\n",
       "      <td>https://www.amazon.in/Rangnavi-Anarkali-Printe...</td>\n",
       "      <td>Rangnavi</td>\n",
       "      <td>Women's Cotton Anarkali Printed Kurta with Pal...</td>\n",
       "      <td>3.4 out of 5 stars</td>\n",
       "      <td>145</td>\n",
       "      <td>₹798.0</td>\n",
       "      <td>₹2499.0</td>\n",
       "      <td>68% off</td>\n",
       "      <td></td>\n",
       "      <td>2025-06-05 15:44:42</td>\n",
       "      <td>{'Material composition': 'Pure', 'Sleeve type'...</td>\n",
       "      <td>{'Size Chart': 'Size Chart- Kurta- XS- 34 in ,...</td>\n",
       "      <td>[Size Chart- Kurta- XS- 34 in , S-36 in , M-38...</td>\n",
       "      <td>{'Country of Origin': 'India', 'Manufacturer':...</td>\n",
       "      <td>{'Brand Name': 'Rangnavi', 'Top Brand Heading'...</td>\n",
       "      <td>{}</td>\n",
       "      <td></td>\n",
       "    </tr>\n",
       "  </tbody>\n",
       "</table>\n",
       "</div>"
      ],
      "text/plain": [
       "      Data ID                                        Product URL Brand Name  \\\n",
       "0  B0DCZ25LBC  https://www.amazon.in/Nermosa-Block-Printed-Ku...    Nermosa   \n",
       "1  B0D2TZDWH5  https://www.amazon.in/Yashika-Fashionably-Trad...    Yashika   \n",
       "2  B0DG5XZRZM  https://www.amazon.in/KLOSIA-Women-Printed-Kur...     KLOSIA   \n",
       "3  B0DDXX1HS5  https://www.amazon.in/MEERA-FAB-Straight-Print...  MEERA FAB   \n",
       "4  B0DQCL9XGC  https://www.amazon.in/Rangnavi-Anarkali-Printe...   Rangnavi   \n",
       "\n",
       "                                        Product Name              Rating  \\\n",
       "0  Women Cotton Block Printed Kurta Pant With Dup...  4.1 out of 5 stars   \n",
       "1  Women's Kurta Fashionably Traditional, Comfort...  3.7 out of 5 stars   \n",
       "2      Women Printed Kurta and Pant Set with Dupatta  4.0 out of 5 stars   \n",
       "3  Women's Cotton Blend Straight Printed Kurta wi...  3.5 out of 5 stars   \n",
       "4  Women's Cotton Anarkali Printed Kurta with Pal...  3.4 out of 5 stars   \n",
       "\n",
       "  Rating Count Price (INR) Original Price (INR) Discount     Badge  \\\n",
       "0        1,438      ₹599.0              ₹4999.0  88% off  Amazon's   \n",
       "1          476      ₹649.0              ₹2599.0  75% off             \n",
       "2          750      ₹699.0              ₹4999.0  86% off             \n",
       "3           98      ₹789.0              ₹2999.0  74% off             \n",
       "4          145      ₹798.0              ₹2499.0  68% off             \n",
       "\n",
       "    Date of Extraction                                    Product Details  \\\n",
       "0  2025-06-05 15:44:42  {'Material composition': '100% Viscose', 'Leng...   \n",
       "1  2025-06-05 15:44:42  {'Material composition': '100% Cotton Blend', ...   \n",
       "2  2025-06-05 15:44:42  {'Material composition': '100% Viscose', 'Slee...   \n",
       "3  2025-06-05 15:44:42  {'Material composition': 'PURE COTTON', 'Sleev...   \n",
       "4  2025-06-05 15:44:42  {'Material composition': 'Pure', 'Sleeve type'...   \n",
       "\n",
       "                                     About This Item  \\\n",
       "0  {'Style Info': '★ Style :- Straight Kurta || S...   \n",
       "1  {'Style Info': 'Quality Craftsmanship: Crafted...   \n",
       "2  {'Style Info': 'Style :- Anarkali Kurta || Sle...   \n",
       "3  {'Fabric Info': 'Fabric Kurta :- Cotton , Pala...   \n",
       "4  {'Size Chart': 'Size Chart- Kurta- XS- 34 in ,...   \n",
       "\n",
       "                                   All Bullet Points  \\\n",
       "0  [★ Fit Type: Straight; Ethnic Sets : Straight ...   \n",
       "1  [Elegant Ensemble: A curated trio comprising a...   \n",
       "2  [Fit Type: Straight; Ethnic Sets: Anarkali Kur...   \n",
       "3  [Size Chart- Kurta- XS- 34 in , S-36 in , M-38...   \n",
       "4  [Size Chart- Kurta- XS- 34 in , S-36 in , M-38...   \n",
       "\n",
       "                                  Additional Details  \\\n",
       "0  {'Manufacturer': 'Nermosa Fashion', 'Packer': ...   \n",
       "1  {'Country of Origin': 'India', 'Manufacturer':...   \n",
       "2  {'Manufacturer': 'KLOSIA', 'Packer': 'Klosia E...   \n",
       "3  {'Country of Origin': 'India', 'Manufacturer':...   \n",
       "4  {'Country of Origin': 'India', 'Manufacturer':...   \n",
       "\n",
       "                                      Brand Snapshot  \\\n",
       "0  {'Brand Name': 'Nermosa', 'Top Brand Heading':...   \n",
       "1  {'Brand Name': 'Yashika', 'Top Brand Heading':...   \n",
       "2  {'Brand Name': 'KLOSIA', 'Top Brand Heading': ...   \n",
       "3  {'Brand Name': 'MEERA FAB', 'Top Brand Heading...   \n",
       "4  {'Brand Name': 'Rangnavi', 'Top Brand Heading'...   \n",
       "\n",
       "  Product and Seller Details  \\\n",
       "0                         {}   \n",
       "1                         {}   \n",
       "2                         {}   \n",
       "3                         {}   \n",
       "4                         {}   \n",
       "\n",
       "                                 Product Description  \n",
       "0                                                     \n",
       "1  Introducing Yashika Women's Ethnic Trio: a del...  \n",
       "2                                                     \n",
       "3                                                     \n",
       "4                                                     "
      ]
     },
     "execution_count": 2,
     "metadata": {},
     "output_type": "execute_result"
    }
   ],
   "source": [
    "data = pd.read_json('./raw_data/JSON/Amazon_full_data.json')\n",
    "data.head()"
   ]
  },
  {
   "cell_type": "markdown",
   "id": "5734c133-2448-44e3-b971-80a9156cc00f",
   "metadata": {},
   "source": [
    "## STEP 1: Dropping a few columns\n",
    "#### Note: Only specific for this data, could be optional for other sets"
   ]
  },
  {
   "cell_type": "code",
   "execution_count": 3,
   "id": "55b4278f-0864-4d75-87bd-6c43d7ad254f",
   "metadata": {},
   "outputs": [
    {
     "data": {
      "text/plain": [
       "1930"
      ]
     },
     "execution_count": 3,
     "metadata": {},
     "output_type": "execute_result"
    }
   ],
   "source": [
    "# Specify the columns you want to drop\n",
    "columns_to_drop = [\n",
    "    'Badge', \n",
    "    'Date of Extraction', \n",
    "    'Product and Seller Details'\n",
    "]\n",
    "\n",
    "# Drop them in place (modify df)\n",
    "data.drop(columns=columns_to_drop, inplace=True)\n",
    "\n",
    "len(data)"
   ]
  },
  {
   "cell_type": "markdown",
   "id": "40a334ac-a631-4b91-b9cd-73f8a1daf308",
   "metadata": {},
   "source": [
    "## STEP 2: Handling Missing Values"
   ]
  },
  {
   "cell_type": "code",
   "execution_count": 4,
   "id": "21e7c53a-4ce2-4233-babc-cc0ae5274dbd",
   "metadata": {},
   "outputs": [
    {
     "name": "stdout",
     "output_type": "stream",
     "text": [
      "Data ID                 0\n",
      "Product URL             0\n",
      "Brand Name              0\n",
      "Product Name            0\n",
      "Rating                  0\n",
      "Rating Count            0\n",
      "Price (INR)             0\n",
      "Original Price (INR)    0\n",
      "Discount                0\n",
      "Product Details         0\n",
      "About This Item         0\n",
      "All Bullet Points       0\n",
      "Additional Details      0\n",
      "Brand Snapshot          0\n",
      "Product Description     0\n",
      "dtype: int64\n"
     ]
    }
   ],
   "source": [
    "# Check for missing values\n",
    "print(data.isnull().sum())"
   ]
  },
  {
   "cell_type": "code",
   "execution_count": 5,
   "id": "21e5585e-6dba-4d09-a451-546dce0daff3",
   "metadata": {},
   "outputs": [],
   "source": [
    "# Fill or drop missing values depending on context:\n",
    "# - For text columns, fill with an empty string\n",
    "# - For numerical columns, fill with 0 or median\n",
    "\n",
    "text_columns = ['Brand Name','Product Name', 'Product Details', 'About This Item',\n",
    "                'All Bullet Points', 'Additional Details', \n",
    "                'Brand Snapshot', \n",
    "                'Product Description']\n",
    "for col in text_columns:\n",
    "    data[col] = data[col].fillna('')\n",
    "\n",
    "# For numerical columns:\n",
    "num_columns = ['Rating', 'Rating Count', 'Price (INR)', \n",
    "               'Original Price (INR)', 'Discount']\n",
    "for col in num_columns:\n",
    "    data[col] = data[col].fillna(0)"
   ]
  },
  {
   "cell_type": "code",
   "execution_count": 6,
   "id": "3eff8bb7-6145-4b5e-a20b-cab9b26efd9d",
   "metadata": {},
   "outputs": [
    {
     "data": {
      "text/plain": [
       "1930"
      ]
     },
     "execution_count": 6,
     "metadata": {},
     "output_type": "execute_result"
    }
   ],
   "source": [
    "data.head()\n",
    "len(data)"
   ]
  },
  {
   "cell_type": "markdown",
   "id": "ea5e6ae4-a619-443e-a42f-c14672cc7e87",
   "metadata": {},
   "source": [
    "## STEP 3: Clean Text Columns"
   ]
  },
  {
   "cell_type": "code",
   "execution_count": 7,
   "id": "8585e523-e2f8-4111-8e40-c9d2c74be146",
   "metadata": {},
   "outputs": [],
   "source": [
    "def clean_text(text):\n",
    "    text = re.sub(r'\\s+', ' ', str(text))  # Remove extra whitespace\n",
    "    text = text.strip()  # Remove leading/trailing spaces\n",
    "    return text\n",
    "\n",
    "for col in text_columns:\n",
    "    data[col] = data[col].apply(clean_text)"
   ]
  },
  {
   "cell_type": "markdown",
   "id": "e0be9f5a-e990-4e66-9bff-b457a2119afa",
   "metadata": {},
   "source": [
    "## STEP 4: Encode Categorical Columns"
   ]
  },
  {
   "cell_type": "code",
   "execution_count": 8,
   "id": "a361bba1-72b3-4313-b860-ea304b1343ab",
   "metadata": {},
   "outputs": [],
   "source": [
    "le_brand = LabelEncoder()\n",
    "data['Brand Name'] = le_brand.fit_transform(data['Brand Name'].astype(str))"
   ]
  },
  {
   "cell_type": "markdown",
   "id": "94f1261a-ccfb-4cb4-b444-819134031709",
   "metadata": {},
   "source": [
    "## STEP 5: Removing Duplicates\n"
   ]
  },
  {
   "cell_type": "code",
   "execution_count": 9,
   "id": "5be8ba4d-5362-43ab-a444-33b770b4bf7f",
   "metadata": {},
   "outputs": [
    {
     "name": "stdout",
     "output_type": "stream",
     "text": [
      "Number of duplicate rows: 0\n"
     ]
    }
   ],
   "source": [
    "# Check number of duplicate rows\n",
    "print(\"Number of duplicate rows:\", data.duplicated().sum())\n"
   ]
  },
  {
   "cell_type": "markdown",
   "id": "1084d49f-9c6b-4661-81a0-a96539b9421c",
   "metadata": {},
   "source": [
    "## STEP 5: Save Preprocessed data\n"
   ]
  },
  {
   "cell_type": "code",
   "execution_count": 10,
   "id": "4ea2e0b3-eb49-4532-8626-15100d0c61f5",
   "metadata": {},
   "outputs": [],
   "source": [
    "data.to_csv(\"./preprocessed_data/amazon_preproc_data_1930.csv\", index=False)\n"
   ]
  },
  {
   "cell_type": "code",
   "execution_count": 11,
   "id": "4c9bd926-754a-4ddc-97a7-42367f16069b",
   "metadata": {},
   "outputs": [
    {
     "data": {
      "text/html": [
       "<div>\n",
       "<style scoped>\n",
       "    .dataframe tbody tr th:only-of-type {\n",
       "        vertical-align: middle;\n",
       "    }\n",
       "\n",
       "    .dataframe tbody tr th {\n",
       "        vertical-align: top;\n",
       "    }\n",
       "\n",
       "    .dataframe thead th {\n",
       "        text-align: right;\n",
       "    }\n",
       "</style>\n",
       "<table border=\"1\" class=\"dataframe\">\n",
       "  <thead>\n",
       "    <tr style=\"text-align: right;\">\n",
       "      <th></th>\n",
       "      <th>Data ID</th>\n",
       "      <th>Product URL</th>\n",
       "      <th>Brand Name</th>\n",
       "      <th>Product Name</th>\n",
       "      <th>Rating</th>\n",
       "      <th>Rating Count</th>\n",
       "      <th>Price (INR)</th>\n",
       "      <th>Original Price (INR)</th>\n",
       "      <th>Discount</th>\n",
       "      <th>Product Details</th>\n",
       "      <th>About This Item</th>\n",
       "      <th>All Bullet Points</th>\n",
       "      <th>Additional Details</th>\n",
       "      <th>Brand Snapshot</th>\n",
       "      <th>Product Description</th>\n",
       "    </tr>\n",
       "  </thead>\n",
       "  <tbody>\n",
       "    <tr>\n",
       "      <th>0</th>\n",
       "      <td>B0DCZ25LBC</td>\n",
       "      <td>https://www.amazon.in/Nermosa-Block-Printed-Ku...</td>\n",
       "      <td>139</td>\n",
       "      <td>Women Cotton Block Printed Kurta Pant With Dup...</td>\n",
       "      <td>4.1 out of 5 stars</td>\n",
       "      <td>1,438</td>\n",
       "      <td>₹599.0</td>\n",
       "      <td>₹4999.0</td>\n",
       "      <td>88% off</td>\n",
       "      <td>{'Material composition': '100% Viscose', 'Leng...</td>\n",
       "      <td>{'Style Info': '★ Style :- Straight Kurta || S...</td>\n",
       "      <td>['★ Fit Type: Straight; Ethnic Sets : Straight...</td>\n",
       "      <td>{'Manufacturer': 'Nermosa Fashion', 'Packer': ...</td>\n",
       "      <td>{'Brand Name': 'Nermosa', 'Top Brand Heading':...</td>\n",
       "      <td></td>\n",
       "    </tr>\n",
       "    <tr>\n",
       "      <th>1</th>\n",
       "      <td>B0D2TZDWH5</td>\n",
       "      <td>https://www.amazon.in/Yashika-Fashionably-Trad...</td>\n",
       "      <td>211</td>\n",
       "      <td>Women's Kurta Fashionably Traditional, Comfort...</td>\n",
       "      <td>3.7 out of 5 stars</td>\n",
       "      <td>476</td>\n",
       "      <td>₹649.0</td>\n",
       "      <td>₹2599.0</td>\n",
       "      <td>75% off</td>\n",
       "      <td>{'Material composition': '100% Cotton Blend', ...</td>\n",
       "      <td>{'Style Info': 'Quality Craftsmanship: Crafted...</td>\n",
       "      <td>['Elegant Ensemble: A curated trio comprising ...</td>\n",
       "      <td>{'Country of Origin': 'India', 'Manufacturer':...</td>\n",
       "      <td>{'Brand Name': 'Yashika', 'Top Brand Heading':...</td>\n",
       "      <td>Introducing Yashika Women's Ethnic Trio: a del...</td>\n",
       "    </tr>\n",
       "    <tr>\n",
       "      <th>2</th>\n",
       "      <td>B0DG5XZRZM</td>\n",
       "      <td>https://www.amazon.in/KLOSIA-Women-Printed-Kur...</td>\n",
       "      <td>99</td>\n",
       "      <td>Women Printed Kurta and Pant Set with Dupatta</td>\n",
       "      <td>4.0 out of 5 stars</td>\n",
       "      <td>750</td>\n",
       "      <td>₹699.0</td>\n",
       "      <td>₹4999.0</td>\n",
       "      <td>86% off</td>\n",
       "      <td>{'Material composition': '100% Viscose', 'Slee...</td>\n",
       "      <td>{'Style Info': 'Style :- Anarkali Kurta || Sle...</td>\n",
       "      <td>['Fit Type: Straight; Ethnic Sets: Anarkali Ku...</td>\n",
       "      <td>{'Manufacturer': 'KLOSIA', 'Packer': 'Klosia E...</td>\n",
       "      <td>{'Brand Name': 'KLOSIA', 'Top Brand Heading': ...</td>\n",
       "      <td></td>\n",
       "    </tr>\n",
       "    <tr>\n",
       "      <th>3</th>\n",
       "      <td>B0DDXX1HS5</td>\n",
       "      <td>https://www.amazon.in/MEERA-FAB-Straight-Print...</td>\n",
       "      <td>119</td>\n",
       "      <td>Women's Cotton Blend Straight Printed Kurta wi...</td>\n",
       "      <td>3.5 out of 5 stars</td>\n",
       "      <td>98</td>\n",
       "      <td>₹789.0</td>\n",
       "      <td>₹2999.0</td>\n",
       "      <td>74% off</td>\n",
       "      <td>{'Material composition': 'PURE COTTON', 'Sleev...</td>\n",
       "      <td>{'Fabric Info': 'Fabric Kurta :- Cotton , Pala...</td>\n",
       "      <td>['Size Chart- Kurta- XS- 34 in , S-36 in , M-3...</td>\n",
       "      <td>{'Country of Origin': 'India', 'Manufacturer':...</td>\n",
       "      <td>{'Brand Name': 'MEERA FAB', 'Top Brand Heading...</td>\n",
       "      <td></td>\n",
       "    </tr>\n",
       "    <tr>\n",
       "      <th>4</th>\n",
       "      <td>B0DQCL9XGC</td>\n",
       "      <td>https://www.amazon.in/Rangnavi-Anarkali-Printe...</td>\n",
       "      <td>160</td>\n",
       "      <td>Women's Cotton Anarkali Printed Kurta with Pal...</td>\n",
       "      <td>3.4 out of 5 stars</td>\n",
       "      <td>145</td>\n",
       "      <td>₹798.0</td>\n",
       "      <td>₹2499.0</td>\n",
       "      <td>68% off</td>\n",
       "      <td>{'Material composition': 'Pure', 'Sleeve type'...</td>\n",
       "      <td>{'Size Chart': 'Size Chart- Kurta- XS- 34 in ,...</td>\n",
       "      <td>['Size Chart- Kurta- XS- 34 in , S-36 in , M-3...</td>\n",
       "      <td>{'Country of Origin': 'India', 'Manufacturer':...</td>\n",
       "      <td>{'Brand Name': 'Rangnavi', 'Top Brand Heading'...</td>\n",
       "      <td></td>\n",
       "    </tr>\n",
       "  </tbody>\n",
       "</table>\n",
       "</div>"
      ],
      "text/plain": [
       "      Data ID                                        Product URL  Brand Name  \\\n",
       "0  B0DCZ25LBC  https://www.amazon.in/Nermosa-Block-Printed-Ku...         139   \n",
       "1  B0D2TZDWH5  https://www.amazon.in/Yashika-Fashionably-Trad...         211   \n",
       "2  B0DG5XZRZM  https://www.amazon.in/KLOSIA-Women-Printed-Kur...          99   \n",
       "3  B0DDXX1HS5  https://www.amazon.in/MEERA-FAB-Straight-Print...         119   \n",
       "4  B0DQCL9XGC  https://www.amazon.in/Rangnavi-Anarkali-Printe...         160   \n",
       "\n",
       "                                        Product Name              Rating  \\\n",
       "0  Women Cotton Block Printed Kurta Pant With Dup...  4.1 out of 5 stars   \n",
       "1  Women's Kurta Fashionably Traditional, Comfort...  3.7 out of 5 stars   \n",
       "2      Women Printed Kurta and Pant Set with Dupatta  4.0 out of 5 stars   \n",
       "3  Women's Cotton Blend Straight Printed Kurta wi...  3.5 out of 5 stars   \n",
       "4  Women's Cotton Anarkali Printed Kurta with Pal...  3.4 out of 5 stars   \n",
       "\n",
       "  Rating Count Price (INR) Original Price (INR) Discount  \\\n",
       "0        1,438      ₹599.0              ₹4999.0  88% off   \n",
       "1          476      ₹649.0              ₹2599.0  75% off   \n",
       "2          750      ₹699.0              ₹4999.0  86% off   \n",
       "3           98      ₹789.0              ₹2999.0  74% off   \n",
       "4          145      ₹798.0              ₹2499.0  68% off   \n",
       "\n",
       "                                     Product Details  \\\n",
       "0  {'Material composition': '100% Viscose', 'Leng...   \n",
       "1  {'Material composition': '100% Cotton Blend', ...   \n",
       "2  {'Material composition': '100% Viscose', 'Slee...   \n",
       "3  {'Material composition': 'PURE COTTON', 'Sleev...   \n",
       "4  {'Material composition': 'Pure', 'Sleeve type'...   \n",
       "\n",
       "                                     About This Item  \\\n",
       "0  {'Style Info': '★ Style :- Straight Kurta || S...   \n",
       "1  {'Style Info': 'Quality Craftsmanship: Crafted...   \n",
       "2  {'Style Info': 'Style :- Anarkali Kurta || Sle...   \n",
       "3  {'Fabric Info': 'Fabric Kurta :- Cotton , Pala...   \n",
       "4  {'Size Chart': 'Size Chart- Kurta- XS- 34 in ,...   \n",
       "\n",
       "                                   All Bullet Points  \\\n",
       "0  ['★ Fit Type: Straight; Ethnic Sets : Straight...   \n",
       "1  ['Elegant Ensemble: A curated trio comprising ...   \n",
       "2  ['Fit Type: Straight; Ethnic Sets: Anarkali Ku...   \n",
       "3  ['Size Chart- Kurta- XS- 34 in , S-36 in , M-3...   \n",
       "4  ['Size Chart- Kurta- XS- 34 in , S-36 in , M-3...   \n",
       "\n",
       "                                  Additional Details  \\\n",
       "0  {'Manufacturer': 'Nermosa Fashion', 'Packer': ...   \n",
       "1  {'Country of Origin': 'India', 'Manufacturer':...   \n",
       "2  {'Manufacturer': 'KLOSIA', 'Packer': 'Klosia E...   \n",
       "3  {'Country of Origin': 'India', 'Manufacturer':...   \n",
       "4  {'Country of Origin': 'India', 'Manufacturer':...   \n",
       "\n",
       "                                      Brand Snapshot  \\\n",
       "0  {'Brand Name': 'Nermosa', 'Top Brand Heading':...   \n",
       "1  {'Brand Name': 'Yashika', 'Top Brand Heading':...   \n",
       "2  {'Brand Name': 'KLOSIA', 'Top Brand Heading': ...   \n",
       "3  {'Brand Name': 'MEERA FAB', 'Top Brand Heading...   \n",
       "4  {'Brand Name': 'Rangnavi', 'Top Brand Heading'...   \n",
       "\n",
       "                                 Product Description  \n",
       "0                                                     \n",
       "1  Introducing Yashika Women's Ethnic Trio: a del...  \n",
       "2                                                     \n",
       "3                                                     \n",
       "4                                                     "
      ]
     },
     "execution_count": 11,
     "metadata": {},
     "output_type": "execute_result"
    }
   ],
   "source": [
    "data.head()"
   ]
  },
  {
   "cell_type": "markdown",
   "id": "ea6bc882-9e3f-4b75-96e6-4a8793bb6d47",
   "metadata": {},
   "source": [
    "## STEP 6: Loading API_Key"
   ]
  },
  {
   "cell_type": "code",
   "execution_count": 12,
   "id": "bb6d7497-23fa-46b4-ba76-4b005eac93e8",
   "metadata": {},
   "outputs": [
    {
     "name": "stdout",
     "output_type": "stream",
     "text": [
      "Loaded API Key: sk-p****\n"
     ]
    }
   ],
   "source": [
    "# Load .env variables\n",
    "load_dotenv()\n",
    "\n",
    "# Access the key\n",
    "openai_api_key = os.getenv('OPENAI_API_KEY')\n",
    "\n",
    "print(\"Loaded API Key:\", openai_api_key[:4] + \"****\")  # print partial key to confirm\n",
    "\n",
    "# Now set the key for openai\n",
    "openai.api_key = openai_api_key"
   ]
  },
  {
   "cell_type": "markdown",
   "id": "437a3257-db3f-499b-88d9-7f740e24492a",
   "metadata": {},
   "source": [
    "## STEP 7: Creating Embeddings"
   ]
  },
  {
   "cell_type": "code",
   "execution_count": 13,
   "id": "823d321e-5824-40ea-9298-66119d4612dc",
   "metadata": {},
   "outputs": [
    {
     "data": {
      "text/plain": [
       "1930"
      ]
     },
     "execution_count": 13,
     "metadata": {},
     "output_type": "execute_result"
    }
   ],
   "source": [
    "clean_data = pd.read_csv('./preprocessed_data/amazon_preproc_data_1930.csv')\n",
    "clean_data.head()\n",
    "len(clean_data)"
   ]
  },
  {
   "cell_type": "code",
   "execution_count": 14,
   "id": "22d0025d-e6d1-4012-9c11-9ee14a4de774",
   "metadata": {},
   "outputs": [],
   "source": [
    "text_columns = [\n",
    "    'Product Name',\n",
    "    'Product Details',\n",
    "    'About This Item',\n",
    "    'All Bullet Points',\n",
    "    'Additional Details',\n",
    "    'Product Description'\n",
    "]\n",
    "\n",
    "def concat_text(row):\n",
    "    texts = [str(row[col]) for col in text_columns if pd.notna(row[col])]\n",
    "    return \" \".join(texts)\n",
    "\n",
    "clean_data['combined_text'] = clean_data.apply(concat_text, axis=1)"
   ]
  },
  {
   "cell_type": "code",
   "execution_count": 15,
   "id": "8e7676d0-2b2b-4aaa-9cfd-7936c6d04bbd",
   "metadata": {},
   "outputs": [
    {
     "data": {
      "text/plain": [
       "\"Women Cotton Block Printed Kurta Pant With Dupatta {'Material composition': '100% Viscose', 'Length': 'Calf Length', 'Sleeve type': '3/4 Sleeve', 'Neck style': 'Round Neck', 'Style': 'Regular', 'Material type': 'Cotton', 'Manufacturer': 'Nermosa Fashion', 'Packer': 'Nermosa Fashion', 'Item Weight': '300 g', 'Item Dimensions LxWxH': '30 x 10 x 3 Centimeters', 'Generic Name': 'Kurta Set'} {'Style Info': '★ Style :- Straight Kurta || Sleeve Length :- 3/4 Sleeve || Bottom :- Pant || Dupatta :- Chanderi Cotton ||', 'Length Info': '★ Style :- Straight Kurta || Sleeve Length :- 3/4 Sleeve || Bottom :- Pant || Dupatta :- Chanderi Cotton ||', 'Occasion / Usage': '★ Item Length :- Casual || Occasion :- Casual ,Office wear ,Party ,Wedding , Ragular & Festive'} ['★ Fit Type: Straight; Ethnic Sets : Straight Kurta and pant Set with Dupatta', '★ Product Material :- Viscose || Colour :- White|| Pattern :- Block Printed ||', '★ Style :- Straight Kurta || Sleeve Length :- 3/4 Sleeve || Bottom :- Pant || Dupatta :- Chanderi Cotton ||', '★ Sizes :- S,M,L,XL,XXL (All Ragular Size Avalible)', '★ Item Length :- Casual || Occasion :- Casual ,Office wear ,Party ,Wedding , Ragular & Festive'] {'Manufacturer': 'Nermosa Fashion', 'Packer': 'Nermosa Fashion', 'Item Weight': '300 g'}\""
      ]
     },
     "execution_count": 15,
     "metadata": {},
     "output_type": "execute_result"
    }
   ],
   "source": [
    "clean_data.head()['combined_text'][0]"
   ]
  },
  {
   "cell_type": "code",
   "execution_count": 18,
   "id": "072bcd52-8a95-4ca8-a602-84d931d2074f",
   "metadata": {},
   "outputs": [
    {
     "name": "stderr",
     "output_type": "stream",
     "text": [
      "Generating Embeddings:  11%|█▉               | 214/1930 [03:49<30:37,  1.07s/it]\n"
     ]
    },
    {
     "ename": "KeyboardInterrupt",
     "evalue": "",
     "output_type": "error",
     "traceback": [
      "\u001b[31m---------------------------------------------------------------------------\u001b[39m",
      "\u001b[31mKeyboardInterrupt\u001b[39m                         Traceback (most recent call last)",
      "\u001b[36mCell\u001b[39m\u001b[36m \u001b[39m\u001b[32mIn[18]\u001b[39m\u001b[32m, line 23\u001b[39m\n\u001b[32m     21\u001b[39m embeddings = []\n\u001b[32m     22\u001b[39m \u001b[38;5;28;01mfor\u001b[39;00m text \u001b[38;5;129;01min\u001b[39;00m tqdm(clean_data[\u001b[33m'\u001b[39m\u001b[33mcombined_text\u001b[39m\u001b[33m'\u001b[39m], desc=\u001b[33m\"\u001b[39m\u001b[33mGenerating Embeddings\u001b[39m\u001b[33m\"\u001b[39m):\n\u001b[32m---> \u001b[39m\u001b[32m23\u001b[39m     emb = \u001b[43mget_embedding\u001b[49m\u001b[43m(\u001b[49m\u001b[43mtext\u001b[49m\u001b[43m)\u001b[49m\n\u001b[32m     24\u001b[39m     embeddings.append(emb)\n\u001b[32m     26\u001b[39m clean_data[\u001b[33m'\u001b[39m\u001b[33membedding\u001b[39m\u001b[33m'\u001b[39m] = embeddings\n",
      "\u001b[36mCell\u001b[39m\u001b[36m \u001b[39m\u001b[32mIn[18]\u001b[39m\u001b[32m, line 14\u001b[39m, in \u001b[36mget_embedding\u001b[39m\u001b[34m(text, model)\u001b[39m\n\u001b[32m     13\u001b[39m \u001b[38;5;28;01mdef\u001b[39;00m\u001b[38;5;250m \u001b[39m\u001b[34mget_embedding\u001b[39m(text, model=\u001b[33m\"\u001b[39m\u001b[33mtext-embedding-3-large\u001b[39m\u001b[33m\"\u001b[39m):\n\u001b[32m---> \u001b[39m\u001b[32m14\u001b[39m     response = \u001b[43mopenai\u001b[49m\u001b[43m.\u001b[49m\u001b[43membeddings\u001b[49m\u001b[43m.\u001b[49m\u001b[43mcreate\u001b[49m\u001b[43m(\u001b[49m\n\u001b[32m     15\u001b[39m \u001b[43m        \u001b[49m\u001b[38;5;28;43minput\u001b[39;49m\u001b[43m=\u001b[49m\u001b[43mtext\u001b[49m\u001b[43m,\u001b[49m\n\u001b[32m     16\u001b[39m \u001b[43m        \u001b[49m\u001b[43mmodel\u001b[49m\u001b[43m=\u001b[49m\u001b[43mmodel\u001b[49m\n\u001b[32m     17\u001b[39m \u001b[43m    \u001b[49m\u001b[43m)\u001b[49m\n\u001b[32m     18\u001b[39m     \u001b[38;5;28;01mreturn\u001b[39;00m response.data[\u001b[32m0\u001b[39m].embedding\n",
      "\u001b[36mFile \u001b[39m\u001b[32m~/Documents/Razonica/Embeddings/venv/lib/python3.12/site-packages/openai/resources/embeddings.py:129\u001b[39m, in \u001b[36mEmbeddings.create\u001b[39m\u001b[34m(self, input, model, dimensions, encoding_format, user, extra_headers, extra_query, extra_body, timeout)\u001b[39m\n\u001b[32m    123\u001b[39m             embedding.embedding = np.frombuffer(  \u001b[38;5;66;03m# type: ignore[no-untyped-call]\u001b[39;00m\n\u001b[32m    124\u001b[39m                 base64.b64decode(data), dtype=\u001b[33m\"\u001b[39m\u001b[33mfloat32\u001b[39m\u001b[33m\"\u001b[39m\n\u001b[32m    125\u001b[39m             ).tolist()\n\u001b[32m    127\u001b[39m     \u001b[38;5;28;01mreturn\u001b[39;00m obj\n\u001b[32m--> \u001b[39m\u001b[32m129\u001b[39m \u001b[38;5;28;01mreturn\u001b[39;00m \u001b[38;5;28;43mself\u001b[39;49m\u001b[43m.\u001b[49m\u001b[43m_post\u001b[49m\u001b[43m(\u001b[49m\n\u001b[32m    130\u001b[39m \u001b[43m    \u001b[49m\u001b[33;43m\"\u001b[39;49m\u001b[33;43m/embeddings\u001b[39;49m\u001b[33;43m\"\u001b[39;49m\u001b[43m,\u001b[49m\n\u001b[32m    131\u001b[39m \u001b[43m    \u001b[49m\u001b[43mbody\u001b[49m\u001b[43m=\u001b[49m\u001b[43mmaybe_transform\u001b[49m\u001b[43m(\u001b[49m\u001b[43mparams\u001b[49m\u001b[43m,\u001b[49m\u001b[43m \u001b[49m\u001b[43membedding_create_params\u001b[49m\u001b[43m.\u001b[49m\u001b[43mEmbeddingCreateParams\u001b[49m\u001b[43m)\u001b[49m\u001b[43m,\u001b[49m\n\u001b[32m    132\u001b[39m \u001b[43m    \u001b[49m\u001b[43moptions\u001b[49m\u001b[43m=\u001b[49m\u001b[43mmake_request_options\u001b[49m\u001b[43m(\u001b[49m\n\u001b[32m    133\u001b[39m \u001b[43m        \u001b[49m\u001b[43mextra_headers\u001b[49m\u001b[43m=\u001b[49m\u001b[43mextra_headers\u001b[49m\u001b[43m,\u001b[49m\n\u001b[32m    134\u001b[39m \u001b[43m        \u001b[49m\u001b[43mextra_query\u001b[49m\u001b[43m=\u001b[49m\u001b[43mextra_query\u001b[49m\u001b[43m,\u001b[49m\n\u001b[32m    135\u001b[39m \u001b[43m        \u001b[49m\u001b[43mextra_body\u001b[49m\u001b[43m=\u001b[49m\u001b[43mextra_body\u001b[49m\u001b[43m,\u001b[49m\n\u001b[32m    136\u001b[39m \u001b[43m        \u001b[49m\u001b[43mtimeout\u001b[49m\u001b[43m=\u001b[49m\u001b[43mtimeout\u001b[49m\u001b[43m,\u001b[49m\n\u001b[32m    137\u001b[39m \u001b[43m        \u001b[49m\u001b[43mpost_parser\u001b[49m\u001b[43m=\u001b[49m\u001b[43mparser\u001b[49m\u001b[43m,\u001b[49m\n\u001b[32m    138\u001b[39m \u001b[43m    \u001b[49m\u001b[43m)\u001b[49m\u001b[43m,\u001b[49m\n\u001b[32m    139\u001b[39m \u001b[43m    \u001b[49m\u001b[43mcast_to\u001b[49m\u001b[43m=\u001b[49m\u001b[43mCreateEmbeddingResponse\u001b[49m\u001b[43m,\u001b[49m\n\u001b[32m    140\u001b[39m \u001b[43m\u001b[49m\u001b[43m)\u001b[49m\n",
      "\u001b[36mFile \u001b[39m\u001b[32m~/Documents/Razonica/Embeddings/venv/lib/python3.12/site-packages/openai/_base_client.py:1239\u001b[39m, in \u001b[36mSyncAPIClient.post\u001b[39m\u001b[34m(self, path, cast_to, body, options, files, stream, stream_cls)\u001b[39m\n\u001b[32m   1225\u001b[39m \u001b[38;5;28;01mdef\u001b[39;00m\u001b[38;5;250m \u001b[39m\u001b[34mpost\u001b[39m(\n\u001b[32m   1226\u001b[39m     \u001b[38;5;28mself\u001b[39m,\n\u001b[32m   1227\u001b[39m     path: \u001b[38;5;28mstr\u001b[39m,\n\u001b[32m   (...)\u001b[39m\u001b[32m   1234\u001b[39m     stream_cls: \u001b[38;5;28mtype\u001b[39m[_StreamT] | \u001b[38;5;28;01mNone\u001b[39;00m = \u001b[38;5;28;01mNone\u001b[39;00m,\n\u001b[32m   1235\u001b[39m ) -> ResponseT | _StreamT:\n\u001b[32m   1236\u001b[39m     opts = FinalRequestOptions.construct(\n\u001b[32m   1237\u001b[39m         method=\u001b[33m\"\u001b[39m\u001b[33mpost\u001b[39m\u001b[33m\"\u001b[39m, url=path, json_data=body, files=to_httpx_files(files), **options\n\u001b[32m   1238\u001b[39m     )\n\u001b[32m-> \u001b[39m\u001b[32m1239\u001b[39m     \u001b[38;5;28;01mreturn\u001b[39;00m cast(ResponseT, \u001b[38;5;28;43mself\u001b[39;49m\u001b[43m.\u001b[49m\u001b[43mrequest\u001b[49m\u001b[43m(\u001b[49m\u001b[43mcast_to\u001b[49m\u001b[43m,\u001b[49m\u001b[43m \u001b[49m\u001b[43mopts\u001b[49m\u001b[43m,\u001b[49m\u001b[43m \u001b[49m\u001b[43mstream\u001b[49m\u001b[43m=\u001b[49m\u001b[43mstream\u001b[49m\u001b[43m,\u001b[49m\u001b[43m \u001b[49m\u001b[43mstream_cls\u001b[49m\u001b[43m=\u001b[49m\u001b[43mstream_cls\u001b[49m\u001b[43m)\u001b[49m)\n",
      "\u001b[36mFile \u001b[39m\u001b[32m~/Documents/Razonica/Embeddings/venv/lib/python3.12/site-packages/openai/_base_client.py:969\u001b[39m, in \u001b[36mSyncAPIClient.request\u001b[39m\u001b[34m(self, cast_to, options, stream, stream_cls)\u001b[39m\n\u001b[32m    967\u001b[39m response = \u001b[38;5;28;01mNone\u001b[39;00m\n\u001b[32m    968\u001b[39m \u001b[38;5;28;01mtry\u001b[39;00m:\n\u001b[32m--> \u001b[39m\u001b[32m969\u001b[39m     response = \u001b[38;5;28;43mself\u001b[39;49m\u001b[43m.\u001b[49m\u001b[43m_client\u001b[49m\u001b[43m.\u001b[49m\u001b[43msend\u001b[49m\u001b[43m(\u001b[49m\n\u001b[32m    970\u001b[39m \u001b[43m        \u001b[49m\u001b[43mrequest\u001b[49m\u001b[43m,\u001b[49m\n\u001b[32m    971\u001b[39m \u001b[43m        \u001b[49m\u001b[43mstream\u001b[49m\u001b[43m=\u001b[49m\u001b[43mstream\u001b[49m\u001b[43m \u001b[49m\u001b[38;5;129;43;01mor\u001b[39;49;00m\u001b[43m \u001b[49m\u001b[38;5;28;43mself\u001b[39;49m\u001b[43m.\u001b[49m\u001b[43m_should_stream_response_body\u001b[49m\u001b[43m(\u001b[49m\u001b[43mrequest\u001b[49m\u001b[43m=\u001b[49m\u001b[43mrequest\u001b[49m\u001b[43m)\u001b[49m\u001b[43m,\u001b[49m\n\u001b[32m    972\u001b[39m \u001b[43m        \u001b[49m\u001b[43m*\u001b[49m\u001b[43m*\u001b[49m\u001b[43mkwargs\u001b[49m\u001b[43m,\u001b[49m\n\u001b[32m    973\u001b[39m \u001b[43m    \u001b[49m\u001b[43m)\u001b[49m\n\u001b[32m    974\u001b[39m \u001b[38;5;28;01mexcept\u001b[39;00m httpx.TimeoutException \u001b[38;5;28;01mas\u001b[39;00m err:\n\u001b[32m    975\u001b[39m     log.debug(\u001b[33m\"\u001b[39m\u001b[33mEncountered httpx.TimeoutException\u001b[39m\u001b[33m\"\u001b[39m, exc_info=\u001b[38;5;28;01mTrue\u001b[39;00m)\n",
      "\u001b[36mFile \u001b[39m\u001b[32m~/Documents/Razonica/Embeddings/venv/lib/python3.12/site-packages/httpx/_client.py:928\u001b[39m, in \u001b[36mClient.send\u001b[39m\u001b[34m(self, request, stream, auth, follow_redirects)\u001b[39m\n\u001b[32m    926\u001b[39m \u001b[38;5;28;01mexcept\u001b[39;00m \u001b[38;5;167;01mBaseException\u001b[39;00m \u001b[38;5;28;01mas\u001b[39;00m exc:\n\u001b[32m    927\u001b[39m     response.close()\n\u001b[32m--> \u001b[39m\u001b[32m928\u001b[39m     \u001b[38;5;28;01mraise\u001b[39;00m exc\n",
      "\u001b[36mFile \u001b[39m\u001b[32m~/Documents/Razonica/Embeddings/venv/lib/python3.12/site-packages/httpx/_client.py:922\u001b[39m, in \u001b[36mClient.send\u001b[39m\u001b[34m(self, request, stream, auth, follow_redirects)\u001b[39m\n\u001b[32m    920\u001b[39m \u001b[38;5;28;01mtry\u001b[39;00m:\n\u001b[32m    921\u001b[39m     \u001b[38;5;28;01mif\u001b[39;00m \u001b[38;5;129;01mnot\u001b[39;00m stream:\n\u001b[32m--> \u001b[39m\u001b[32m922\u001b[39m         \u001b[43mresponse\u001b[49m\u001b[43m.\u001b[49m\u001b[43mread\u001b[49m\u001b[43m(\u001b[49m\u001b[43m)\u001b[49m\n\u001b[32m    924\u001b[39m     \u001b[38;5;28;01mreturn\u001b[39;00m response\n\u001b[32m    926\u001b[39m \u001b[38;5;28;01mexcept\u001b[39;00m \u001b[38;5;167;01mBaseException\u001b[39;00m \u001b[38;5;28;01mas\u001b[39;00m exc:\n",
      "\u001b[36mFile \u001b[39m\u001b[32m~/Documents/Razonica/Embeddings/venv/lib/python3.12/site-packages/httpx/_models.py:881\u001b[39m, in \u001b[36mResponse.read\u001b[39m\u001b[34m(self)\u001b[39m\n\u001b[32m    877\u001b[39m \u001b[38;5;250m\u001b[39m\u001b[33;03m\"\"\"\u001b[39;00m\n\u001b[32m    878\u001b[39m \u001b[33;03mRead and return the response content.\u001b[39;00m\n\u001b[32m    879\u001b[39m \u001b[33;03m\"\"\"\u001b[39;00m\n\u001b[32m    880\u001b[39m \u001b[38;5;28;01mif\u001b[39;00m \u001b[38;5;129;01mnot\u001b[39;00m \u001b[38;5;28mhasattr\u001b[39m(\u001b[38;5;28mself\u001b[39m, \u001b[33m\"\u001b[39m\u001b[33m_content\u001b[39m\u001b[33m\"\u001b[39m):\n\u001b[32m--> \u001b[39m\u001b[32m881\u001b[39m     \u001b[38;5;28mself\u001b[39m._content = \u001b[33;43mb\u001b[39;49m\u001b[33;43m\"\u001b[39;49m\u001b[33;43m\"\u001b[39;49m\u001b[43m.\u001b[49m\u001b[43mjoin\u001b[49m\u001b[43m(\u001b[49m\u001b[38;5;28;43mself\u001b[39;49m\u001b[43m.\u001b[49m\u001b[43miter_bytes\u001b[49m\u001b[43m(\u001b[49m\u001b[43m)\u001b[49m\u001b[43m)\u001b[49m\n\u001b[32m    882\u001b[39m \u001b[38;5;28;01mreturn\u001b[39;00m \u001b[38;5;28mself\u001b[39m._content\n",
      "\u001b[36mFile \u001b[39m\u001b[32m~/Documents/Razonica/Embeddings/venv/lib/python3.12/site-packages/httpx/_models.py:897\u001b[39m, in \u001b[36mResponse.iter_bytes\u001b[39m\u001b[34m(self, chunk_size)\u001b[39m\n\u001b[32m    895\u001b[39m chunker = ByteChunker(chunk_size=chunk_size)\n\u001b[32m    896\u001b[39m \u001b[38;5;28;01mwith\u001b[39;00m request_context(request=\u001b[38;5;28mself\u001b[39m._request):\n\u001b[32m--> \u001b[39m\u001b[32m897\u001b[39m \u001b[43m    \u001b[49m\u001b[38;5;28;43;01mfor\u001b[39;49;00m\u001b[43m \u001b[49m\u001b[43mraw_bytes\u001b[49m\u001b[43m \u001b[49m\u001b[38;5;129;43;01min\u001b[39;49;00m\u001b[43m \u001b[49m\u001b[38;5;28;43mself\u001b[39;49m\u001b[43m.\u001b[49m\u001b[43miter_raw\u001b[49m\u001b[43m(\u001b[49m\u001b[43m)\u001b[49m\u001b[43m:\u001b[49m\n\u001b[32m    898\u001b[39m \u001b[43m        \u001b[49m\u001b[43mdecoded\u001b[49m\u001b[43m \u001b[49m\u001b[43m=\u001b[49m\u001b[43m \u001b[49m\u001b[43mdecoder\u001b[49m\u001b[43m.\u001b[49m\u001b[43mdecode\u001b[49m\u001b[43m(\u001b[49m\u001b[43mraw_bytes\u001b[49m\u001b[43m)\u001b[49m\n\u001b[32m    899\u001b[39m \u001b[43m        \u001b[49m\u001b[38;5;28;43;01mfor\u001b[39;49;00m\u001b[43m \u001b[49m\u001b[43mchunk\u001b[49m\u001b[43m \u001b[49m\u001b[38;5;129;43;01min\u001b[39;49;00m\u001b[43m \u001b[49m\u001b[43mchunker\u001b[49m\u001b[43m.\u001b[49m\u001b[43mdecode\u001b[49m\u001b[43m(\u001b[49m\u001b[43mdecoded\u001b[49m\u001b[43m)\u001b[49m\u001b[43m:\u001b[49m\n",
      "\u001b[36mFile \u001b[39m\u001b[32m~/Documents/Razonica/Embeddings/venv/lib/python3.12/site-packages/httpx/_models.py:951\u001b[39m, in \u001b[36mResponse.iter_raw\u001b[39m\u001b[34m(self, chunk_size)\u001b[39m\n\u001b[32m    948\u001b[39m chunker = ByteChunker(chunk_size=chunk_size)\n\u001b[32m    950\u001b[39m \u001b[38;5;28;01mwith\u001b[39;00m request_context(request=\u001b[38;5;28mself\u001b[39m._request):\n\u001b[32m--> \u001b[39m\u001b[32m951\u001b[39m \u001b[43m    \u001b[49m\u001b[38;5;28;43;01mfor\u001b[39;49;00m\u001b[43m \u001b[49m\u001b[43mraw_stream_bytes\u001b[49m\u001b[43m \u001b[49m\u001b[38;5;129;43;01min\u001b[39;49;00m\u001b[43m \u001b[49m\u001b[38;5;28;43mself\u001b[39;49m\u001b[43m.\u001b[49m\u001b[43mstream\u001b[49m\u001b[43m:\u001b[49m\n\u001b[32m    952\u001b[39m \u001b[43m        \u001b[49m\u001b[38;5;28;43mself\u001b[39;49m\u001b[43m.\u001b[49m\u001b[43m_num_bytes_downloaded\u001b[49m\u001b[43m \u001b[49m\u001b[43m+\u001b[49m\u001b[43m=\u001b[49m\u001b[43m \u001b[49m\u001b[38;5;28;43mlen\u001b[39;49m\u001b[43m(\u001b[49m\u001b[43mraw_stream_bytes\u001b[49m\u001b[43m)\u001b[49m\n\u001b[32m    953\u001b[39m \u001b[43m        \u001b[49m\u001b[38;5;28;43;01mfor\u001b[39;49;00m\u001b[43m \u001b[49m\u001b[43mchunk\u001b[49m\u001b[43m \u001b[49m\u001b[38;5;129;43;01min\u001b[39;49;00m\u001b[43m \u001b[49m\u001b[43mchunker\u001b[49m\u001b[43m.\u001b[49m\u001b[43mdecode\u001b[49m\u001b[43m(\u001b[49m\u001b[43mraw_stream_bytes\u001b[49m\u001b[43m)\u001b[49m\u001b[43m:\u001b[49m\n",
      "\u001b[36mFile \u001b[39m\u001b[32m~/Documents/Razonica/Embeddings/venv/lib/python3.12/site-packages/httpx/_client.py:153\u001b[39m, in \u001b[36mBoundSyncStream.__iter__\u001b[39m\u001b[34m(self)\u001b[39m\n\u001b[32m    152\u001b[39m \u001b[38;5;28;01mdef\u001b[39;00m\u001b[38;5;250m \u001b[39m\u001b[34m__iter__\u001b[39m(\u001b[38;5;28mself\u001b[39m) -> typing.Iterator[\u001b[38;5;28mbytes\u001b[39m]:\n\u001b[32m--> \u001b[39m\u001b[32m153\u001b[39m \u001b[43m    \u001b[49m\u001b[38;5;28;43;01mfor\u001b[39;49;00m\u001b[43m \u001b[49m\u001b[43mchunk\u001b[49m\u001b[43m \u001b[49m\u001b[38;5;129;43;01min\u001b[39;49;00m\u001b[43m \u001b[49m\u001b[38;5;28;43mself\u001b[39;49m\u001b[43m.\u001b[49m\u001b[43m_stream\u001b[49m\u001b[43m:\u001b[49m\n\u001b[32m    154\u001b[39m \u001b[43m        \u001b[49m\u001b[38;5;28;43;01myield\u001b[39;49;00m\u001b[43m \u001b[49m\u001b[43mchunk\u001b[49m\n",
      "\u001b[36mFile \u001b[39m\u001b[32m~/Documents/Razonica/Embeddings/venv/lib/python3.12/site-packages/httpx/_transports/default.py:127\u001b[39m, in \u001b[36mResponseStream.__iter__\u001b[39m\u001b[34m(self)\u001b[39m\n\u001b[32m    125\u001b[39m \u001b[38;5;28;01mdef\u001b[39;00m\u001b[38;5;250m \u001b[39m\u001b[34m__iter__\u001b[39m(\u001b[38;5;28mself\u001b[39m) -> typing.Iterator[\u001b[38;5;28mbytes\u001b[39m]:\n\u001b[32m    126\u001b[39m     \u001b[38;5;28;01mwith\u001b[39;00m map_httpcore_exceptions():\n\u001b[32m--> \u001b[39m\u001b[32m127\u001b[39m \u001b[43m        \u001b[49m\u001b[38;5;28;43;01mfor\u001b[39;49;00m\u001b[43m \u001b[49m\u001b[43mpart\u001b[49m\u001b[43m \u001b[49m\u001b[38;5;129;43;01min\u001b[39;49;00m\u001b[43m \u001b[49m\u001b[38;5;28;43mself\u001b[39;49m\u001b[43m.\u001b[49m\u001b[43m_httpcore_stream\u001b[49m\u001b[43m:\u001b[49m\n\u001b[32m    128\u001b[39m \u001b[43m            \u001b[49m\u001b[38;5;28;43;01myield\u001b[39;49;00m\u001b[43m \u001b[49m\u001b[43mpart\u001b[49m\n",
      "\u001b[36mFile \u001b[39m\u001b[32m~/Documents/Razonica/Embeddings/venv/lib/python3.12/site-packages/httpcore/_sync/connection_pool.py:407\u001b[39m, in \u001b[36mPoolByteStream.__iter__\u001b[39m\u001b[34m(self)\u001b[39m\n\u001b[32m    405\u001b[39m \u001b[38;5;28;01mexcept\u001b[39;00m \u001b[38;5;167;01mBaseException\u001b[39;00m \u001b[38;5;28;01mas\u001b[39;00m exc:\n\u001b[32m    406\u001b[39m     \u001b[38;5;28mself\u001b[39m.close()\n\u001b[32m--> \u001b[39m\u001b[32m407\u001b[39m     \u001b[38;5;28;01mraise\u001b[39;00m exc \u001b[38;5;28;01mfrom\u001b[39;00m\u001b[38;5;250m \u001b[39m\u001b[38;5;28;01mNone\u001b[39;00m\n",
      "\u001b[36mFile \u001b[39m\u001b[32m~/Documents/Razonica/Embeddings/venv/lib/python3.12/site-packages/httpcore/_sync/connection_pool.py:403\u001b[39m, in \u001b[36mPoolByteStream.__iter__\u001b[39m\u001b[34m(self)\u001b[39m\n\u001b[32m    401\u001b[39m \u001b[38;5;28;01mdef\u001b[39;00m\u001b[38;5;250m \u001b[39m\u001b[34m__iter__\u001b[39m(\u001b[38;5;28mself\u001b[39m) -> typing.Iterator[\u001b[38;5;28mbytes\u001b[39m]:\n\u001b[32m    402\u001b[39m     \u001b[38;5;28;01mtry\u001b[39;00m:\n\u001b[32m--> \u001b[39m\u001b[32m403\u001b[39m \u001b[43m        \u001b[49m\u001b[38;5;28;43;01mfor\u001b[39;49;00m\u001b[43m \u001b[49m\u001b[43mpart\u001b[49m\u001b[43m \u001b[49m\u001b[38;5;129;43;01min\u001b[39;49;00m\u001b[43m \u001b[49m\u001b[38;5;28;43mself\u001b[39;49m\u001b[43m.\u001b[49m\u001b[43m_stream\u001b[49m\u001b[43m:\u001b[49m\n\u001b[32m    404\u001b[39m \u001b[43m            \u001b[49m\u001b[38;5;28;43;01myield\u001b[39;49;00m\u001b[43m \u001b[49m\u001b[43mpart\u001b[49m\n\u001b[32m    405\u001b[39m     \u001b[38;5;28;01mexcept\u001b[39;00m \u001b[38;5;167;01mBaseException\u001b[39;00m \u001b[38;5;28;01mas\u001b[39;00m exc:\n",
      "\u001b[36mFile \u001b[39m\u001b[32m~/Documents/Razonica/Embeddings/venv/lib/python3.12/site-packages/httpcore/_sync/http11.py:342\u001b[39m, in \u001b[36mHTTP11ConnectionByteStream.__iter__\u001b[39m\u001b[34m(self)\u001b[39m\n\u001b[32m    340\u001b[39m \u001b[38;5;28;01mwith\u001b[39;00m ShieldCancellation():\n\u001b[32m    341\u001b[39m     \u001b[38;5;28mself\u001b[39m.close()\n\u001b[32m--> \u001b[39m\u001b[32m342\u001b[39m \u001b[38;5;28;01mraise\u001b[39;00m exc\n",
      "\u001b[36mFile \u001b[39m\u001b[32m~/Documents/Razonica/Embeddings/venv/lib/python3.12/site-packages/httpcore/_sync/http11.py:334\u001b[39m, in \u001b[36mHTTP11ConnectionByteStream.__iter__\u001b[39m\u001b[34m(self)\u001b[39m\n\u001b[32m    332\u001b[39m \u001b[38;5;28;01mtry\u001b[39;00m:\n\u001b[32m    333\u001b[39m     \u001b[38;5;28;01mwith\u001b[39;00m Trace(\u001b[33m\"\u001b[39m\u001b[33mreceive_response_body\u001b[39m\u001b[33m\"\u001b[39m, logger, \u001b[38;5;28mself\u001b[39m._request, kwargs):\n\u001b[32m--> \u001b[39m\u001b[32m334\u001b[39m \u001b[43m        \u001b[49m\u001b[38;5;28;43;01mfor\u001b[39;49;00m\u001b[43m \u001b[49m\u001b[43mchunk\u001b[49m\u001b[43m \u001b[49m\u001b[38;5;129;43;01min\u001b[39;49;00m\u001b[43m \u001b[49m\u001b[38;5;28;43mself\u001b[39;49m\u001b[43m.\u001b[49m\u001b[43m_connection\u001b[49m\u001b[43m.\u001b[49m\u001b[43m_receive_response_body\u001b[49m\u001b[43m(\u001b[49m\u001b[43m*\u001b[49m\u001b[43m*\u001b[49m\u001b[43mkwargs\u001b[49m\u001b[43m)\u001b[49m\u001b[43m:\u001b[49m\n\u001b[32m    335\u001b[39m \u001b[43m            \u001b[49m\u001b[38;5;28;43;01myield\u001b[39;49;00m\u001b[43m \u001b[49m\u001b[43mchunk\u001b[49m\n\u001b[32m    336\u001b[39m \u001b[38;5;28;01mexcept\u001b[39;00m \u001b[38;5;167;01mBaseException\u001b[39;00m \u001b[38;5;28;01mas\u001b[39;00m exc:\n\u001b[32m    337\u001b[39m     \u001b[38;5;66;03m# If we get an exception while streaming the response,\u001b[39;00m\n\u001b[32m    338\u001b[39m     \u001b[38;5;66;03m# we want to close the response (and possibly the connection)\u001b[39;00m\n\u001b[32m    339\u001b[39m     \u001b[38;5;66;03m# before raising that exception.\u001b[39;00m\n",
      "\u001b[36mFile \u001b[39m\u001b[32m~/Documents/Razonica/Embeddings/venv/lib/python3.12/site-packages/httpcore/_sync/http11.py:203\u001b[39m, in \u001b[36mHTTP11Connection._receive_response_body\u001b[39m\u001b[34m(self, request)\u001b[39m\n\u001b[32m    200\u001b[39m timeout = timeouts.get(\u001b[33m\"\u001b[39m\u001b[33mread\u001b[39m\u001b[33m\"\u001b[39m, \u001b[38;5;28;01mNone\u001b[39;00m)\n\u001b[32m    202\u001b[39m \u001b[38;5;28;01mwhile\u001b[39;00m \u001b[38;5;28;01mTrue\u001b[39;00m:\n\u001b[32m--> \u001b[39m\u001b[32m203\u001b[39m     event = \u001b[38;5;28;43mself\u001b[39;49m\u001b[43m.\u001b[49m\u001b[43m_receive_event\u001b[49m\u001b[43m(\u001b[49m\u001b[43mtimeout\u001b[49m\u001b[43m=\u001b[49m\u001b[43mtimeout\u001b[49m\u001b[43m)\u001b[49m\n\u001b[32m    204\u001b[39m     \u001b[38;5;28;01mif\u001b[39;00m \u001b[38;5;28misinstance\u001b[39m(event, h11.Data):\n\u001b[32m    205\u001b[39m         \u001b[38;5;28;01myield\u001b[39;00m \u001b[38;5;28mbytes\u001b[39m(event.data)\n",
      "\u001b[36mFile \u001b[39m\u001b[32m~/Documents/Razonica/Embeddings/venv/lib/python3.12/site-packages/httpcore/_sync/http11.py:217\u001b[39m, in \u001b[36mHTTP11Connection._receive_event\u001b[39m\u001b[34m(self, timeout)\u001b[39m\n\u001b[32m    214\u001b[39m     event = \u001b[38;5;28mself\u001b[39m._h11_state.next_event()\n\u001b[32m    216\u001b[39m \u001b[38;5;28;01mif\u001b[39;00m event \u001b[38;5;129;01mis\u001b[39;00m h11.NEED_DATA:\n\u001b[32m--> \u001b[39m\u001b[32m217\u001b[39m     data = \u001b[38;5;28;43mself\u001b[39;49m\u001b[43m.\u001b[49m\u001b[43m_network_stream\u001b[49m\u001b[43m.\u001b[49m\u001b[43mread\u001b[49m\u001b[43m(\u001b[49m\n\u001b[32m    218\u001b[39m \u001b[43m        \u001b[49m\u001b[38;5;28;43mself\u001b[39;49m\u001b[43m.\u001b[49m\u001b[43mREAD_NUM_BYTES\u001b[49m\u001b[43m,\u001b[49m\u001b[43m \u001b[49m\u001b[43mtimeout\u001b[49m\u001b[43m=\u001b[49m\u001b[43mtimeout\u001b[49m\n\u001b[32m    219\u001b[39m \u001b[43m    \u001b[49m\u001b[43m)\u001b[49m\n\u001b[32m    221\u001b[39m     \u001b[38;5;66;03m# If we feed this case through h11 we'll raise an exception like:\u001b[39;00m\n\u001b[32m    222\u001b[39m     \u001b[38;5;66;03m#\u001b[39;00m\n\u001b[32m    223\u001b[39m     \u001b[38;5;66;03m#     httpcore.RemoteProtocolError: can't handle event type\u001b[39;00m\n\u001b[32m   (...)\u001b[39m\u001b[32m    227\u001b[39m     \u001b[38;5;66;03m# perspective. Instead we handle this case distinctly and treat\u001b[39;00m\n\u001b[32m    228\u001b[39m     \u001b[38;5;66;03m# it as a ConnectError.\u001b[39;00m\n\u001b[32m    229\u001b[39m     \u001b[38;5;28;01mif\u001b[39;00m data == \u001b[33mb\u001b[39m\u001b[33m\"\u001b[39m\u001b[33m\"\u001b[39m \u001b[38;5;129;01mand\u001b[39;00m \u001b[38;5;28mself\u001b[39m._h11_state.their_state == h11.SEND_RESPONSE:\n",
      "\u001b[36mFile \u001b[39m\u001b[32m~/Documents/Razonica/Embeddings/venv/lib/python3.12/site-packages/httpcore/_backends/sync.py:128\u001b[39m, in \u001b[36mSyncStream.read\u001b[39m\u001b[34m(self, max_bytes, timeout)\u001b[39m\n\u001b[32m    126\u001b[39m \u001b[38;5;28;01mwith\u001b[39;00m map_exceptions(exc_map):\n\u001b[32m    127\u001b[39m     \u001b[38;5;28mself\u001b[39m._sock.settimeout(timeout)\n\u001b[32m--> \u001b[39m\u001b[32m128\u001b[39m     \u001b[38;5;28;01mreturn\u001b[39;00m \u001b[38;5;28;43mself\u001b[39;49m\u001b[43m.\u001b[49m\u001b[43m_sock\u001b[49m\u001b[43m.\u001b[49m\u001b[43mrecv\u001b[49m\u001b[43m(\u001b[49m\u001b[43mmax_bytes\u001b[49m\u001b[43m)\u001b[49m\n",
      "\u001b[36mFile \u001b[39m\u001b[32m/Library/Frameworks/Python.framework/Versions/3.12/lib/python3.12/ssl.py:1233\u001b[39m, in \u001b[36mSSLSocket.recv\u001b[39m\u001b[34m(self, buflen, flags)\u001b[39m\n\u001b[32m   1229\u001b[39m     \u001b[38;5;28;01mif\u001b[39;00m flags != \u001b[32m0\u001b[39m:\n\u001b[32m   1230\u001b[39m         \u001b[38;5;28;01mraise\u001b[39;00m \u001b[38;5;167;01mValueError\u001b[39;00m(\n\u001b[32m   1231\u001b[39m             \u001b[33m\"\u001b[39m\u001b[33mnon-zero flags not allowed in calls to recv() on \u001b[39m\u001b[38;5;132;01m%s\u001b[39;00m\u001b[33m\"\u001b[39m %\n\u001b[32m   1232\u001b[39m             \u001b[38;5;28mself\u001b[39m.\u001b[34m__class__\u001b[39m)\n\u001b[32m-> \u001b[39m\u001b[32m1233\u001b[39m     \u001b[38;5;28;01mreturn\u001b[39;00m \u001b[38;5;28;43mself\u001b[39;49m\u001b[43m.\u001b[49m\u001b[43mread\u001b[49m\u001b[43m(\u001b[49m\u001b[43mbuflen\u001b[49m\u001b[43m)\u001b[49m\n\u001b[32m   1234\u001b[39m \u001b[38;5;28;01melse\u001b[39;00m:\n\u001b[32m   1235\u001b[39m     \u001b[38;5;28;01mreturn\u001b[39;00m \u001b[38;5;28msuper\u001b[39m().recv(buflen, flags)\n",
      "\u001b[36mFile \u001b[39m\u001b[32m/Library/Frameworks/Python.framework/Versions/3.12/lib/python3.12/ssl.py:1106\u001b[39m, in \u001b[36mSSLSocket.read\u001b[39m\u001b[34m(self, len, buffer)\u001b[39m\n\u001b[32m   1104\u001b[39m         \u001b[38;5;28;01mreturn\u001b[39;00m \u001b[38;5;28mself\u001b[39m._sslobj.read(\u001b[38;5;28mlen\u001b[39m, buffer)\n\u001b[32m   1105\u001b[39m     \u001b[38;5;28;01melse\u001b[39;00m:\n\u001b[32m-> \u001b[39m\u001b[32m1106\u001b[39m         \u001b[38;5;28;01mreturn\u001b[39;00m \u001b[38;5;28;43mself\u001b[39;49m\u001b[43m.\u001b[49m\u001b[43m_sslobj\u001b[49m\u001b[43m.\u001b[49m\u001b[43mread\u001b[49m\u001b[43m(\u001b[49m\u001b[38;5;28;43mlen\u001b[39;49m\u001b[43m)\u001b[49m\n\u001b[32m   1107\u001b[39m \u001b[38;5;28;01mexcept\u001b[39;00m SSLError \u001b[38;5;28;01mas\u001b[39;00m x:\n\u001b[32m   1108\u001b[39m     \u001b[38;5;28;01mif\u001b[39;00m x.args[\u001b[32m0\u001b[39m] == SSL_ERROR_EOF \u001b[38;5;129;01mand\u001b[39;00m \u001b[38;5;28mself\u001b[39m.suppress_ragged_eofs:\n",
      "\u001b[31mKeyboardInterrupt\u001b[39m: "
     ]
    }
   ],
   "source": [
    "# Metadata columns to keep\n",
    "metadata_columns = [\n",
    "    'Product Name',\n",
    "    'Brand Name',\n",
    "    'Rating',\n",
    "    'Rating Count',\n",
    "    'Price (INR)',\n",
    "    'Original Price (INR)',\n",
    "    'Discount'\n",
    "]\n",
    "\n",
    "# Function to get embedding from OpenAI\n",
    "def get_embedding(text, model=\"text-embedding-3-large\"):\n",
    "    response = openai.embeddings.create(\n",
    "        input=text,\n",
    "        model=model\n",
    "    )\n",
    "    return response.data[0].embedding\n",
    "    \n",
    "# Generate embeddings for all rows\n",
    "embeddings = []\n",
    "for text in tqdm(clean_data['combined_text'], desc=\"Generating Embeddings\"):\n",
    "    emb = get_embedding(text)\n",
    "    embeddings.append(emb)\n",
    "\n",
    "clean_data['embedding'] = embeddings"
   ]
  },
  {
   "cell_type": "code",
   "execution_count": 20,
   "id": "096e056c-9d26-483c-8094-401425732d21",
   "metadata": {},
   "outputs": [
    {
     "name": "stderr",
     "output_type": "stream",
     "text": [
      "/var/folders/yq/4q2wdw1s2fddpmw82m2n3f4m0000gn/T/ipykernel_78572/1581500775.py:12: DeprecationWarning: datetime.datetime.utcnow() is deprecated and scheduled for removal in a future version. Use timezone-aware objects to represent datetimes in UTC: datetime.datetime.now(datetime.UTC).\n",
      "  'createdAt': datetime.datetime.utcnow().isoformat() + 'Z'  # ISO 8601 format with UTC indicator\n"
     ]
    },
    {
     "name": "stdout",
     "output_type": "stream",
     "text": [
      "Embeddings, metadata, and createdAt saved to product_embeddings2.json\n"
     ]
    }
   ],
   "source": [
    "import json\n",
    "import datetime\n",
    "\n",
    "metadata_columns\n",
    "\n",
    "# Prepare data to save\n",
    "output_data = []\n",
    "for _, row in clean_data.iterrows():\n",
    "    item = {\n",
    "        'embedding': row['embedding'],\n",
    "        'metadata': {col: row[col] for col in metadata_columns},\n",
    "        'createdAt': datetime.datetime.utcnow().isoformat() + 'Z'  # ISO 8601 format with UTC indicator\n",
    "    }\n",
    "    output_data.append(item)\n",
    "\n",
    "# Save to JSON file\n",
    "with open('./product_embeddings/product_embeddings2.json', 'w') as f:\n",
    "    json.dump(output_data, f, indent=4)  # Optional: pretty print\n",
    "\n",
    "print(\"Embeddings, metadata, and createdAt saved to product_embeddings2.json\")\n"
   ]
  },
  {
   "cell_type": "code",
   "execution_count": 21,
   "id": "f77b6717-f84f-4d72-a638-fb85c281ba60",
   "metadata": {},
   "outputs": [
    {
     "name": "stdout",
     "output_type": "stream",
     "text": [
      "{'embedding': [-0.02540482021868229, -0.004101242404431105, -0.00835502427071333, 0.04687134176492691, 0.026125919073820114, 0.0019327494082972407, -0.0427388958632946, -0.0034685484133660793, -0.002698915544897318, 0.008687838912010193, 0.0413799062371254, -0.05252918228507042, 0.021022766828536987, -0.07943166792392731, -0.018082907423377037, 0.015850279480218887, 0.008611569181084633, 0.01489343773573637, 0.026528069749474525, 0.017015129327774048, 0.009429736994206905, 0.036997850984334946, 0.0027803857810795307, -0.0008424360421486199, 0.023491138592362404, 0.014948906376957893, -0.029259920120239258, -0.005342361982911825, 0.010192436166107655, 0.0035534854978322983, 0.014123804867267609, 0.0004398521559778601, 0.010830330662429333, 0.010192436166107655, -0.07571524381637573, 0.01655750907957554, 0.01060845423489809, 0.04093615338206291, 0.037885356694459915, -0.04845220968127251, -0.02550189197063446, 0.005869317799806595, -0.026222988963127136, 0.00018016605463344604, -0.008576900698244572, -0.009679348208010197, 0.0184018537402153, 0.030757583677768707, -0.011752502992749214, -0.026555804535746574, 0.035222843289375305, 0.018360253423452377, -0.010435113683342934, -0.0052764927968382835, 0.023005785420536995, 0.010705525055527687, -0.014810234308242798, 0.11770530790090561, 0.032837674021720886, 0.017777828499674797, 0.0008589034550823271, -0.05225183814764023, 0.004933278076350689, -0.01879013702273369, -0.031118132174015045, 0.02687475085258484, -0.006992565933614969, -0.009838821366429329, 0.021341713145375252, 0.017486615106463432, -0.005221023689955473, 0.02387942187488079, 0.012542936950922012, 0.025460289791226387, 0.016335632652044296, -0.05840890109539032, 0.03036930039525032, 0.002187560312449932, 0.011697034351527691, 0.005758380051702261, 0.017985837534070015, -0.008764108642935753, -0.008133147843182087, -0.00832728948444128, -0.013243233785033226, 0.007197108119726181, -0.01944189891219139, -0.07471679896116257, -0.002390369074419141, -0.011523693799972534, -0.0012272525345906615, 0.022478828206658363, 0.02179933339357376, -0.0382736399769783, 0.022201484069228172, 0.03425213322043419, 0.04104709252715111, 0.008361957967281342, -0.012431998737156391, -0.00461433082818985, 0.019233889877796173, -0.02837241441011429, -0.045567817986011505, -0.07122225314378738, 0.035000964999198914, -0.015988951548933983, 0.024725325405597687, 0.01833251863718033, -0.030286096036434174, -0.03217204287648201, -0.010726326145231724, -0.0272491667419672, 0.019206155091524124, 0.024780794978141785, 0.011086874641478062, 0.030813053250312805, -0.043848276138305664, -0.06423314660787582, 0.020440341904759407, 0.016876455396413803, -0.01224479079246521, -0.0052834260277450085, -0.023075120523571968, 0.03902247175574303, -0.052418243139982224, 0.039410755038261414, -0.03688691183924675, 0.03247712552547455, 0.054747942835092545, 0.023283129557967186, -0.027845459058880806, 0.004863941576331854, -0.03336462751030922, -0.010691657662391663, -0.032282982021570206, -0.022783908993005753, 0.026555804535746574, 0.0025134410243481398, 0.005754913203418255, -0.005068483762443066, -0.02491946704685688, -0.01809677481651306, -0.019330961629748344, -0.007162440102547407, -0.01665457896888256, -0.050560031086206436, -0.00016174859774764627, -0.006111994851380587, 0.016169225797057152, 0.0069336299784481525, -0.0055711716413497925, -0.06611909717321396, 0.0005919586983509362, -0.023407936096191406, 0.018193846568465233, -0.01913681998848915, -0.009561476297676563, 0.005099684931337833, 0.027471043169498444, -0.011066073551774025, -0.002229162026196718, 0.05696670711040497, 0.01830478385090828, 0.016585243865847588, 0.056190140545368195, 0.0012593205319717526, -0.042017798870801926, 0.020107528194785118, -0.03710879012942314, 0.024697590619325638, -0.008639303036034107, -0.01401980035007, 0.0038516316562891006, 0.00929106492549181, -0.024572785943746567, -0.016058286651968956, 0.05491435155272484, 0.03724746033549309, -0.01809677481651306, 0.02717982977628708, -0.03297634422779083, 0.052390508353710175, 0.0075368559919297695, -0.000654794683214277, 0.009193994104862213, 0.037663478404283524, 0.010442047379910946, 0.022950315847992897, 0.004312717821449041, -0.008008343167603016, -0.027637450024485588, -0.03333689272403717, -0.027138229459524155, 0.021438784897327423, -0.014269410632550716, 0.02525228075683117, -0.020287802442908287, 0.01444968581199646, -0.007689395919442177, 0.010643122717738152, -0.005626640748232603, -0.0825379341840744, 0.039355285465717316, -0.027942528948187828, -0.007703263312578201, -0.01372858788818121, -0.026652874425053596, 0.0030854654032737017, 0.020897962152957916, 0.029564999043941498, 0.014241676777601242, -0.0198995191603899, -0.0039244345389306545, 0.02258976735174656, 0.022728439420461655, -0.0006006257026456296, -0.03364197537302971, -0.022645236924290657, -0.016543641686439514, -0.0008506697486154735, -0.012161587364971638, -0.03070211410522461, 0.01132955215871334, 0.010046830400824547, -0.07416211068630219, 0.02758198045194149, 0.017250871285796165, 0.017763961106538773, -0.03330915793776512, 0.015503597445786, 0.016210827976465225, -0.034335337579250336, -0.016460437327623367, -0.04035372659564018, -0.028275344520807266, 0.02745717577636242, -0.03280993923544884, 0.0030022619757801294, 0.0035777532029896975, -0.013215498998761177, -0.005949054844677448, -0.018263181671500206, -0.015378791838884354, -0.011135410517454147, -0.027207564562559128, 0.005935187451541424, 0.016585243865847588, 0.03727519512176514, 0.011960512027144432, 0.015406526625156403, -0.035222843289375305, 0.011870374903082848, -0.0029970617033541203, 0.03475135564804077, 0.0010695124510675669, -0.004992213565856218, -0.01137115340679884, -0.02975914068520069, 0.019733112305402756, 0.018041305243968964, -0.017639154568314552, 0.026625139638781548, -0.04809165745973587, -0.00574104581028223, 0.03297634422779083, -0.027332371100783348, -0.0162801630795002, -0.0442642942070961, 0.01195357833057642, 0.02552962675690651, 0.02981461025774479, -0.033974789083004, 8.239103044616058e-05, -0.027498777955770493, -0.04875728860497475, -0.009901223704218864, -0.021466519683599472, -0.0013243233552202582, 0.0026451798621565104, -0.019483501091599464, 0.018263181671500206, 0.029343122616410255, 0.035250574350357056, -0.01744501292705536, -0.010234038345515728, -0.022104412317276, -0.014193140901625156, 0.002166759455576539, -0.049450650811195374, 0.0075645907782018185, -0.013922729529440403, -0.02598724514245987, -0.003321208758279681, -0.018720801919698715, 0.01561453565955162, 0.008285688236355782, 0.03122907131910324, 0.03780215233564377, -0.032948609441518784, 0.021286245435476303, 0.031173601746559143, 0.011246347799897194, -0.0009620412020012736, 0.011870374903082848, -0.03658183291554451, 0.04196232929825783, -0.012036781758069992, -0.015836412087082863, 0.006791490595787764, 0.02565443143248558, 0.0034806823823601007, 0.02005205862224102, -0.011100742034614086, -0.02050967887043953, -0.017223138362169266, 0.05363856256008148, 0.005581572186201811, -0.009318798780441284, -0.013166964054107666, 0.003546551801264286, -0.0023435670882463455, 0.009020652621984482, 0.010351910255849361, 0.04462484270334244, -0.022298553958535194, 0.002128624590113759, -0.027623582631349564, 5.227306974120438e-05, 0.015143048018217087, -0.03214430809020996, -0.01959443837404251, -0.011066073551774025, 0.03780215233564377, 0.01536492444574833, 0.02611205168068409, -0.016640711575746536, 0.04246155172586441, -0.024974936619400978, 0.046483058482408524, -0.0034529478289186954, 0.00011494658974697813, 0.007217909209430218, -0.003388811834156513, -0.023532740771770477, 0.04631664976477623, -0.003234538482502103, 0.0025186410639435053, -0.004912476986646652, 0.04065880924463272, -0.012175454758107662, 0.0006344271823763847, -0.016751650720834732, -0.02423997037112713, 0.001018376904539764, 0.02806733548641205, 0.022797776386141777, 0.007273378316313028, 0.006763756275177002, -0.004232981242239475, 0.029010308906435966, 0.0015565999783575535, 0.0070653692819178104, 0.0030230628326535225, 0.014082202687859535, -0.021133704110980034, -0.02489173226058483, -0.0059663886204361916, 0.013173897750675678, 0.02672221139073372, 0.0019656841177493334, -0.052113164216279984, -0.03447400778532028, -0.04065880924463272, -0.022603634744882584, -0.005304227117449045, 0.03605487570166588, 0.008514498360455036, -0.014026734046638012, 0.010698591358959675, -0.003262273035943508, 0.030757583677768707, 0.039050206542015076, -0.012348795309662819, -0.02200734242796898, 0.009020652621984482, -0.004326585214585066, -0.015170782804489136, 0.03758027404546738, 0.0032033370807766914, -0.009824953973293304, -0.027373971417546272, 0.012563738040626049, 0.047065481543540955, 0.02816440537571907, -0.0214249175041914, 0.004642065614461899, 0.017347943037748337, 0.025751503184437752, -0.013936596922576427, -0.013825658708810806, -0.042655691504478455, -0.024378644302487373, -0.015073711983859539, -0.04667719826102257, -0.013347238302230835, -0.03957716003060341, 0.010012161917984486, 0.026306193321943283, 0.03003648668527603, 0.005182888358831406, 0.015406526625156403, -0.010733259841799736, -0.004056173842400312, 0.02017686329782009, 0.006042658817023039, -0.03097946010529995, 0.022423360496759415, 0.021535854786634445, -0.015753207728266716, -0.022104412317276, 0.044985391199588776, 0.011426622979342937, 0.01876240409910679, -0.015420394018292427, 0.03416892886161804, 0.012314126826822758, -0.005099684931337833, 0.028178272768855095, 0.010705525055527687, 0.012813348323106766, -0.08409106731414795, 0.026375528424978256, -0.013971264474093914, -0.019261624664068222, 0.018138376995921135, -0.03416892886161804, -0.0398545078933239, 0.01944189891219139, 0.027318503707647324, -0.014089136384427547, 0.022270821034908295, -0.0103172417730093, 0.0007661661366000772, 0.004198313225060701, -0.0324493907392025, 0.029370857402682304, -0.024600520730018616, -0.014082202687859535, -0.04906236752867699, -0.036720506846904755, -0.047620173543691635, 0.018679199740290642, -0.01650203950703144, -0.02803960070014, 0.03150641545653343, 0.022354023531079292, 0.048507675528526306, 0.04065880924463272, 0.010656989179551601, -0.004326585214585066, -0.03513963893055916, -0.0007782999891787767, -0.0005312894354574382, 0.03511190414428711, -0.00817475002259016, -0.07577071338891983, -0.00897211767733097, 0.0058901188895106316, -0.004184445831924677, 0.03450174257159233, -0.005359696224331856, -0.0004301017615944147, -0.04667719826102257, -0.003128800541162491, 0.018693067133426666, 0.01503211073577404, 0.015087579376995564, 0.005626640748232603, -0.007703263312578201, -0.012924286536872387, 0.026125919073820114, 0.006451742723584175, -0.027165962383151054, 0.013499777764081955, 0.0018478124402463436, 0.015725472941994667, -0.023518873378634453, -0.009422803297638893, -0.014921172522008419, -0.004364720080047846, -0.04013185203075409, 0.04246155172586441, -0.030202893540263176, 0.0028202540706843138, -0.010816463269293308, 0.014519021846354008, 0.030147423967719078, -0.036110345274209976, 0.016571376472711563, -0.0019916852470487356, 0.03727519512176514, -0.016571376472711563, -0.021203041076660156, 0.019081350415945053, -0.021535854786634445, 0.002740517258644104, -0.04831353574991226, 0.007009900175035, -0.029121246188879013, -0.004843140486627817, -0.00319467019289732, 0.027207564562559128, 0.0016571376472711563, -0.009804152883589268, -0.03649862855672836, -0.00820248480886221, -0.010289506986737251, 0.0036852245684713125, -0.01604442112147808, -0.03918887674808502, -0.014491287060081959, 0.018804004415869713, -0.0026694475673139095, -0.007793400436639786, -0.07255350798368454, 0.022506562992930412, -0.00541169848293066, 0.00019121651712339371, 0.03217204287648201, -0.0012272525345906615, 0.010719392448663712, -0.002579310443252325, 0.02423997037112713, -0.004947145003825426, -0.027138229459524155, 0.012189322151243687, 0.004642065614461899, -0.009700148366391659, -0.03208884224295616, -0.012085317634046078, 0.017528217285871506, 0.013416574336588383, -0.01720927096903324, -0.012785614468157291, 0.02405969612300396, 0.01564227044582367, -0.002555042738094926, 0.023615945130586624, -0.017153801396489143, -0.0035153503995388746, 0.017320208251476288, 0.018443455919623375, -0.010143901221454144, -0.012078383937478065, 0.007467519957572222, 0.028400149196386337, -0.0040596406906843185, 0.016432704403996468, 0.014061401598155499, -0.004690601024776697, 0.019095217809081078, 0.002700648969039321, -0.005071950610727072, 0.021660661324858665, 0.029038043692708015, 0.01928935945034027, -0.004180978983640671, -0.006378939840942621, -0.03769121319055557, 0.03486229106783867, 0.01622469536960125, -0.022853245958685875, -0.01399206556379795, -0.009637746028602123, 0.005824249237775803, 0.03982677310705185, -0.02060674875974655, -0.03977130353450775, 0.0206344835460186, 0.033475566655397415, -0.0034598815254867077, -0.015087579376995564, -0.028566556051373482, -0.006257601082324982, 0.014685428701341152, 0.027068892493844032, 0.010143901221454144, 0.021036634221673012, -0.02831694670021534, -0.0018616797169670463, 0.0015080645680427551, 0.019095217809081078, -0.0029814608860760927, -0.010303374379873276, 0.008237152360379696, 0.02060674875974655, 0.03225524723529816, 0.003626288613304496, -0.012418131344020367, -0.00901371892541647, -0.01607215404510498, 0.005078884307295084, 0.020149128511548042, 0.0009663747041486204, -0.00780726782977581, 0.034945495426654816, 0.03034156560897827, 0.02534935250878334, 0.005637041293084621, -0.02773451991379261, -0.05840890109539032, -0.02127237804234028, 0.017278606072068214, 0.005536503624171019, -0.008285688236355782, -0.02525228075683117, 0.025571228936314583, 0.008320355787873268, -0.013277902267873287, 0.023033520206809044, 0.013236300088465214, -0.04215647280216217, 0.0428498350083828, -0.01129488367587328, -0.01053218450397253, -0.008348090574145317, -0.013645384460687637, 0.03253259137272835, -0.015267853625118732, 0.00872250646352768, -0.017611421644687653, -0.0020887560676783323, -0.0013017890742048621, -0.01863759756088257, 0.012646941468119621, 0.0107124587520957, 0.010261773131787777, -0.015281721018254757, -0.005137819796800613, -0.004038839600980282, 0.0027665183879435062, -0.032920874655246735, 0.016737783327698708, -0.0026053115725517273, -0.01794423535466194, -0.009381202049553394, -0.004309250973165035, 0.0294817965477705, 0.016030553728342056, -0.006063459441065788, 0.0010209770407527685, 0.021591324359178543, -0.015683870762586594, 0.02641713060438633, 0.012896551750600338, 0.0014525955775752664, -0.010663922876119614, 0.007772599346935749, 0.013153096660971642, -0.012938153930008411, -0.009935892187058926, -0.0011475158389657736, 0.013888061046600342, 0.005266092251986265, -0.005619707051664591, 0.01304215844720602, -0.015226252377033234, 0.01959443837404251, 0.028400149196386337, 0.03036930039525032, -0.024267705157399178, -0.034113459289073944, 0.026902485638856888, 0.0018928810022771358, -0.01977471262216568, 0.0016172692412510514, 0.017486615106463432, -0.0021130237728357315, 0.014505154453217983, -0.00904838740825653, -0.002851455472409725, -0.025127476081252098, -0.003879366209730506, -0.003069864818826318, 0.006909362506121397, 0.00046455321717076004, 0.005612773820757866, 0.0036020209081470966, -0.014519021846354008, 0.0029242585878819227, -0.00015470662037841976, -0.003771894844248891, -0.013888061046600342, -0.034390807151794434, 0.015378791838884354, -0.019857916980981827, 0.04490219056606293, 0.0036956248804926872, 0.010213237255811691, -0.007966740988194942, 0.003378411289304495, -0.005096218083053827, -0.0075645907782018185, -0.003910567611455917, -0.005498368758708239, 0.008306489326059818, -0.011849573813378811, -0.01518465019762516, -0.008167816326022148, -0.01855439506471157, 0.02357434295117855, 0.008375825360417366, 0.011551427654922009, -0.005221023689955473, -0.009603077545762062, 0.01017856877297163, 0.022423360496759415, 0.015406526625156403, -0.003986837342381477, -0.0003447314375080168, 0.0063858735375106335, 0.001998618943616748, 0.009963626973330975, 0.00904838740825653, 0.013610715977847576, -0.0003507983637973666, -0.017403412610292435, -0.013395773246884346, 0.006354671902954578, -0.0061743976548314095, -0.009942825883626938, 0.024323174729943275, 0.012633074074983597, 0.0013113227905705571, 0.01962217316031456, 0.026777679100632668, 0.011849573813378811, -0.010885799303650856, -0.012314126826822758, -0.01503211073577404, -0.022201484069228172, -0.034390807151794434, 0.0005512235802598298, -0.0032900075893849134, -0.008868113160133362, 0.011378087103366852, 0.011066073551774025, 0.018318651244044304, 0.01078872848302126, 0.016793252900242805, -0.00047148685553111136, -0.004492992535233498, 0.014505154453217983, 0.0019136819755658507, -0.028538821265101433, 0.008403560146689415, 0.014643827453255653, -0.0017238737782463431, -0.029842345044016838, 0.005002614110708237, -0.013846459798514843, 0.0005780914216302335, -0.004596997052431107, -0.0295095294713974, -0.004392454866319895, 0.00831342302262783, -0.01944189891219139, 0.018041305243968964, 0.036443158984184265, -0.016238562762737274, -0.011253281496465206, 0.010220170952379704, 0.022936448454856873, 0.011606897227466106, -0.007557657081633806, -0.01870693452656269, 0.022520430386066437, -0.03588847070932388, 0.004226047545671463, 0.007585391402244568, -0.007002966478466988, 0.008687838912010193, 0.010400445200502872, 0.021203041076660156, 0.026375528424978256, -0.013326437212526798, 0.015503597445786, -0.017320208251476288, 0.024267705157399178, 0.011066073551774025, 0.006663218606263399, -0.016904190182685852, -0.009679348208010197, -0.0024805061984807253, -0.0017100065015256405, -0.0038862996734678745, -0.018082907423377037, 0.0013009223621338606, -0.001775009324774146, -0.01016470231115818, 0.016321765258908272, -0.024711458012461662, 0.020149128511548042, 0.004468724597245455, 0.01150982640683651, -0.015628403052687645, -0.025418687611818314, -0.011627698317170143, -0.01640496961772442, 0.005172488279640675, 0.01609988883137703, -0.034668151289224625, -0.02167452871799469, -0.00014213942631613463, -0.0013893261784687638, 0.031145866960287094, -0.015600668266415596, -0.013076826930046082, 0.03477909043431282, 0.01597508415579796, 0.028843902051448822, 0.0005785247776657343, -0.0017290740506723523, 0.018415721133351326, 0.001741207903251052, 0.0072872452437877655, 0.023810086771845818, 0.0015375325456261635, -0.02114757150411606, -0.040270525962114334, -0.0022239619866013527, 0.0034165463875979185, -0.002055821241810918, -0.02629232592880726, -0.01987178437411785, 0.0011111142812296748, 0.0035846868995577097, 0.0014092603232711554, 0.013215498998761177, 0.01380485761910677, 0.006677085999399424, 0.009020652621984482, 0.013395773246884346, -0.01769462414085865, -0.0368037074804306, 0.024655988439917564, -0.013277902267873287, 0.02770678699016571, 0.007398183457553387, -0.02344953827559948, -0.011391954496502876, 0.014865702949464321, 0.018110642209649086, -0.022853245958685875, -0.02225695364177227, 0.0002537275431677699, -0.02099503204226494, -0.00936733465641737, -0.01532332319766283, 0.010934335179626942, 0.002967593725770712, 0.0015748008154332638, 0.01282721571624279, 0.03633222356438637, -0.005075417459011078, 0.011918910779058933, 0.022187616676092148, -0.007432851474732161, -0.00027907860931009054, 0.002021153224632144, -0.01358991488814354, 0.016266295686364174, 0.0017212736420333385, 0.013770189136266708, -0.018498925492167473, -0.004399388562887907, 0.004021505359560251, -0.025432555004954338, 0.012508268468081951, 0.0021355580538511276, -0.014671561308205128, -0.023005785420536995, -0.011946644634008408, 0.006614683195948601, 0.010615387931466103, -0.007876603864133358, -0.03006422147154808, -0.011045272462069988, 0.002457971917465329, -0.036138080060482025, 0.004974879790097475, -0.003511883784085512, -0.021161438897252083, -0.03483456000685692, 0.024226104840636253, 0.01650203950703144, -0.00214249175041914, -0.0027110495138913393, -0.012106118723750114, -0.006715220864862204, -0.00038958335062488914, -0.025016536936163902, -0.0021944940090179443, -0.039688099175691605, -0.01609988883137703, 0.008361957967281342, 0.015073711983859539, 0.006018390879034996, -0.029703671112656593, 0.02783159166574478, 0.007994475774466991, -0.008667037822306156, -0.015420394018292427, -0.03608261048793793, 0.00030442970455624163, -0.010580719448626041, -0.052362773567438126, 0.02570990100502968, 0.02666674181818962, 0.004798071924597025, -0.014047535136342049, -0.019816314801573753, -0.014269410632550716, -0.002303698565810919, -0.0008519698167219758, 0.015905747190117836, -0.007058435585349798, 0.018193846568465233, -0.027068892493844032, -0.014255544170737267, -0.0040665739215910435, -0.003837764263153076, -0.01686258800327778, -0.0034945495426654816, -0.00321373762562871, 0.004427122883498669, -0.0003471148665994406, -0.010816463269293308, -0.023186059668660164, -0.028150537982583046, 0.014103003777563572, 0.002721449825912714, -0.008854245766997337, 0.013104560784995556, -0.03161735460162163, -0.011780237779021263, 0.01173863559961319, 0.015420394018292427, -0.0007388649974018335, 0.019081350415945053, -0.012882685288786888, 0.028330812230706215, 0.008563033305108547, -0.032338451594114304, 0.005751446355134249, 0.010095365345478058, -0.01680712029337883, -0.01971924491226673, -0.016515906900167465, 0.013735521584749222, -0.007061902433633804, -0.0030351965688169003, -0.012723211199045181, 0.032948609441518784, -0.009533741511404514, -0.021286245435476303, -0.0059941234067082405, -0.014269410632550716, 0.009603077545762062, 0.02243722788989544, 0.0006019257707521319, -0.0024597053416073322, 0.028843902051448822, 0.008091546595096588, 0.0027526512276381254, -0.0058207823894917965, 0.0032293382100760937, -0.011676233261823654, -0.01564227044582367, -0.0035378849133849144, 0.006649351213127375, -0.009616944938898087, -0.029870079830288887, 0.006489878054708242, 0.009935892187058926, 0.0221598818898201, -0.0010565118864178658, -0.020731553435325623, -0.0028739897534251213, 0.023532740771770477, -0.009984427131712437, -0.004909010138362646, 0.005824249237775803, -0.017250871285796165, -0.013062959536910057, -0.016543641686439514, -0.0052452911622822285, 0.018013570457696915, 0.013964330777525902, -0.025072006508708, -0.030008751899003983, 0.021480387076735497, -0.0081400815397501, -0.004222580697387457, 0.0457896925508976, 0.03502869978547096, -0.027221431955695152, 0.022506562992930412, -0.0007388649974018335, 0.025058139115571976, -0.014505154453217983, 0.013368039391934872, 0.027235299348831177, 0.015864145010709763, 0.041158027946949005, 0.011059139855206013, -0.004534594248980284, 0.02299191802740097, -0.011357286013662815, 0.05605146661400795, -0.0011579162674024701, -0.017250871285796165, 0.0413799062371254, -0.006583482027053833, -0.01388112735003233, -0.003099332796409726, 0.020246200263500214, -0.009311865083873272, 0.0003830830683000386, -0.012036781758069992, 0.036692772060632706, -0.006188265047967434, 0.03242165595293045, 0.01607215404510498, 0.0004379020829219371, 0.0004970545996911824, 0.007120838388800621, 0.005172488279640675, 0.02978687547147274, -0.02699955552816391, -0.007890471257269382, 0.02568216621875763, -0.011253281496465206, 0.01111460942775011, -0.004506859462708235, -0.005037282127887011, -0.010123100131750107, 0.028538821265101433, -0.0037406934425234795, -0.008493697270751, 0.021050501614809036, -0.01604442112147808, -0.0018478124402463436, 0.03744160383939743, 0.01388112735003233, -0.007758732419461012, 0.013264034874737263, -0.011995180509984493, 0.02978687547147274, 0.005945587996393442, -0.0029138580430299044, -0.0054290322586894035, 0.009776419028639793, -0.028108937665820122, -0.02555736154317856, 0.010136967524886131, 0.01827704906463623, -0.01209225133061409, -0.007245643530040979, -0.027665184810757637, -0.0021996942814439535, 0.035555656999349594, 0.023227661848068237, 0.013534446246922016, -0.034363072365522385, -0.0003950002428609878, -0.010358843952417374, 0.015267853625118732, -0.010123100131750107, -0.009755617938935757, -0.017070597037672997, -0.012445866130292416, 0.02152198739349842, 0.022950315847992897, -0.01290348544716835, -0.020953429862856865, 0.019982721656560898, -0.0002708449319470674, 0.005071950610727072, -0.007100037299096584, -0.02644486539065838, 0.006250667851418257, 0.01784716360270977, -0.0042121801525354385, -0.0010053763398900628, -0.0428498350083828, 0.023102855309844017, 0.028511088341474533, -0.0034096126910299063, -0.004621264524757862, 0.00352401752024889, -0.012071450240910053, -0.012771747075021267, 0.01074712723493576, -0.03181149438023567, -0.02139718271791935, -0.017902633175253868, 0.009776419028639793, -0.001413593883626163, 0.011641564778983593, 0.004350853152573109, 0.02745717577636242, -0.01343737542629242, -0.0032501390669494867, 0.0184573233127594, 0.00835502427071333, -0.06134875863790512, -0.011911977082490921, 0.0068573602475225925, -0.023699147626757622, -0.041158027946949005, 0.03708105534315109, 0.001894614426419139, 0.006725621409714222, -0.010892733000218868, 0.022035077214241028, 0.010802595876157284, -0.011766370385885239, -0.026805413886904716, 0.00795980729162693, -0.005671709310263395, -0.010885799303650856, -0.005300760269165039, 0.03810723125934601, 0.013693919405341148, 0.005328494589775801, 0.01275094598531723, -0.022187616676092148, 0.025418687611818314, -0.0029381257481873035, -0.01787489838898182, -0.025141343474388123, 0.02350500598549843, -0.0017065397696569562, -0.013756322674453259, -0.008105413988232613, -0.0031634687911719084, 0.00590051943436265, -0.014935039915144444, -0.023435670882463455, 0.0012593205319717526, -0.010871931910514832, 0.009866556152701378, -0.004732202738523483, -0.0070272344164550304, 0.014352614991366863, -0.012785614468157291, 0.022104412317276, 0.0010443780338391662, 0.009270263835787773, 0.019636040553450584, -0.007474453188478947, 0.010012161917984486, -0.007072302978485823, 0.03977130353450775, -0.03364197537302971, 0.03472362086176872, -0.011024472303688526, -0.011759436689317226, -0.011246347799897194, 0.008979051373898983, -0.030840788036584854, 0.032865408807992935, 0.0016753383679315448, -0.035555656999349594, -0.00615359703078866, -0.014505154453217983, -0.045040860772132874, 0.0018720801454037428, -0.01652977429330349, -0.022270821034908295, -0.005557304713875055, -0.015961216762661934, -0.0056786430068314075, -0.004666333086788654, 0.012230923399329185, 0.005793048068881035, -0.040215056389570236, 0.022048944607377052, -0.003608954604715109, 0.01358991488814354, 0.012549870647490025, -0.01622469536960125, 0.02032940462231636, 0.017985837534070015, 0.016307897865772247, -0.015489730052649975, -0.002908657770603895, -0.014907305128872395, 0.002473572501912713, -0.014948906376957893, -0.01888720877468586, -0.0009559742757119238, 0.017278606072068214, 0.00383429741486907, 0.008985985070466995, 0.006562680937349796, 0.02601497992873192, 0.015087579376995564, 0.0006998633034527302, 0.0012393863871693611, -0.012466667219996452, -0.030258363112807274, 0.01521238498389721, -0.023130590096116066, -0.019261624664068222, 0.01107994094491005, 0.01824931427836418, 0.004513793159276247, 0.01964990794658661, -0.011967445723712444, 0.003007462015375495, 0.049145571887493134, -0.012341861613094807, 0.008361957967281342, -0.009790285490453243, 0.00017409911379218102, 0.0021719597280025482, 0.007481386885046959, -0.0023834353778511286, -2.8411634048097767e-05, -0.032033372670412064, -0.00023422669619321823, -0.0039244345389306545, 0.01300748996436596, -0.012667742557823658, -0.0023557008244097233, -0.003879366209730506, 0.024905599653720856, -0.02712436206638813, 0.001996885519474745, 0.011232481338083744, -0.015059844590723515, -0.006836559157818556, -0.009894290007650852, 0.00870864000171423, -0.004915943834930658, -0.009776419028639793, -0.022631369531154633, 0.042017798870801926, 0.007973674684762955, -0.020038191229104996, 0.01729247346520424, -0.016751650720834732, -0.001502864295616746, -0.0114474231377244, 0.007342714350670576, -0.0015661336947232485, 0.012071450240910053, 0.007321913726627827, -0.01974697969853878, -0.0028011866379529238, 0.01668231375515461, 0.005068483762443066, 0.020260067656636238, -0.013056025840342045, -0.0038030962459743023, -0.011593029834330082, 0.009991360828280449, -0.008237152360379696, 0.017958102747797966, 0.006801891140639782, -0.012646941468119621, -0.001496797427535057, -0.03217204287648201, 0.025335485115647316, 0.009637746028602123, -0.024115165695548058, 0.025390954688191414, -0.006708287168294191, -0.009096923284232616, -0.028427883982658386, 0.023976493626832962, -0.014116871170699596, 0.00019706676539499313, 0.016793252900242805, 0.05663389340043068, 0.006604282651096582, 0.0071832407265901566, -0.0050268820486962795, 0.002700648969039321, 0.004160177893936634, -0.018512792885303497, 0.0010781794553622603, 0.018374120816588402, 0.0107124587520957, 0.0004710534994956106, 0.00593865429982543, -0.01754208467900753, 0.015531331300735474, 0.010629255324602127, 0.0038862996734678745, -0.02032940462231636, -0.01567000336945057, -0.013950464315712452, -0.02114757150411606, 0.014519021846354008, -0.004080441314727068, 0.026736078783869743, 0.01394353061914444, -0.010254839435219765, 0.025820838287472725, -0.030286096036434174, 0.02694408781826496, 0.020731553435325623, 0.0047772713005542755, -0.016210827976465225, 0.007980608381330967, 0.014505154453217983, 0.011856507509946823, -0.00428498350083828, 0.004482591990381479, 0.004413255490362644, 0.03547245264053345, -0.007412050850689411, 0.0161969605833292, 0.028732962906360626, 0.00920092687010765, 0.017334075644612312, 0.011461290530860424, -0.013631517067551613, 0.03272673487663269, 0.003139201086014509, 0.0010253106011077762, 0.016266295686364174, 0.005342361982911825, 0.012119985185563564, -0.011690100654959679, -0.0017204070463776588, 0.010767927393317223, 0.00831342302262783, -0.0008987718028947711, -0.0002764785022009164, -0.006077326834201813, 0.011946644634008408, -0.02641713060438633, 0.0005174221587367356, 0.006725621409714222, -0.015143048018217087, -0.0022222285624593496, -0.026306193321943283, 0.03502869978547096, 0.011308751069009304, -0.006874694488942623, 0.03147868067026138, 0.022062812000513077, -0.012515202164649963, -0.024558918550610542, -0.03547245264053345, 0.002392102498561144, 0.015600668266415596, 0.007633926812559366, -0.02408743090927601, 0.011211680248379707, 0.01860986277461052, 0.029287654906511307, -0.016474304720759392, -0.0323939211666584, 0.034030258655548096, -0.03308728337287903, -0.026749946177005768, 0.006604282651096582, -0.035250574350357056, 0.00311493338085711, -0.017098331823945045, -0.026250723749399185, 0.003667890327051282, 0.009159325622022152, 0.011766370385885239, -0.011599963530898094, 0.0049194106832146645, -0.0010322441812604666, -0.011426622979342937, -0.003300407901406288, -0.0008233686094172299, 0.020218465477228165, -0.015101446770131588, -0.0073149800300598145, 0.022700704634189606, -0.0012411198113113642, -0.02032940462231636, -0.02862202562391758, 0.04199006408452988, -0.009457471780478954, -0.013291768729686737, -0.015129181556403637, -0.011232481338083744, 0.01597508415579796, 0.03034156560897827, 0.0038516316562891006, 0.04978346452116966, -0.014629960060119629, -0.0031704024877399206, 0.008320355787873268, -0.0020298203453421593, -0.026306193321943283, -0.022603634744882584, 0.03794082626700401, 0.010996737517416477, -0.010442047379910946, -0.019816314801573753, -0.004146310966461897, -0.00042836833745241165, 0.014560623094439507, -0.013971264474093914, -0.01751434989273548, 0.013617649674415588, -0.01751434989273548, -0.011911977082490921, -0.011093808338046074, 0.00045935300295241177, -0.02271457202732563, 0.002993594855070114, 0.009589210152626038, 0.019982721656560898, -0.010275639593601227, 0.032005637884140015, 0.003972969949245453, -0.010955135338008404, -0.0009299731464125216, 0.003276140196248889, 0.022326288744807243, -0.019455766305327415, 0.013250167481601238, -0.00704803504049778, 0.004118576180189848, -0.012369596399366856, -0.03186696395277977, 0.008535298518836498, -0.02595951221883297, 0.011024472303688526, -0.022492695599794388, 0.0055642384104430676, -0.035860735923051834, -0.015281721018254757, -0.015267853625118732, 0.027332371100783348, 0.012882685288786888, -0.011107675731182098, 0.0076408605091273785, -0.011260215193033218, -0.01964990794658661, -0.020579013973474503, -0.01503211073577404, 0.03708105534315109, 0.015281721018254757, 0.03372517600655556, -0.005262625403702259, 0.013894994743168354, 0.0325603261590004, 0.006094661075621843, -0.02154972217977047, 0.01848505809903145, -0.03311501815915108, -0.0024805061984807253, 0.029315387830138206, 0.03042476996779442, -0.020398739725351334, 0.015351057052612305, -0.01377712283283472, 0.007751798722893, 0.009741750545799732, 0.0019708843901753426, 0.021383315324783325, -0.008445161394774914, -0.007737931329756975, -0.024420246481895447, 0.0020766223315149546, 0.004981813486665487, -0.01380485761910677, -0.006538413465023041, -0.0035344180651009083, -0.031700558960437775, 0.007571524009108543, -0.010476714931428432, 0.011946644634008408, -0.024226104840636253, 0.029897812753915787, -0.031672824174165726, -0.012411197647452354, -0.001084246439859271, -0.010670856572687626, -0.009700148366391659, -0.015753207728266716, 0.022187616676092148, -0.017042862251400948, -0.004583129659295082, 0.026528069749474525, 0.02859429083764553, 0.018207712098956108, 0.002289831405505538, -0.00825101975351572, 0.0038412311114370823, -0.02238175831735134, -0.022492695599794388, 0.0022620968520641327, -0.015073711983859539, -0.00737738236784935, 0.00650374498218298, -0.014026734046638012, -0.02598724514245987, -0.009117723442614079, 0.022395625710487366, 0.02466985583305359, 0.018651464954018593, 0.0030542640015482903, 0.02081475779414177, 0.019081350415945053, 0.019733112305402756, -0.002738783834502101, 0.005643974989652634, 0.0037649611476808786, -0.022201484069228172, -0.022506562992930412, 0.013631517067551613, 0.005737578961998224, -0.01564227044582367, 0.0030681313946843147, 0.005827716086059809, -0.005775713827461004, 0.022950315847992897, -0.003243205603212118, -0.03658183291554451, 0.032310716807842255, 0.0023678347934037447, -0.008597701787948608, -0.013749388977885246, -0.02372688241302967, 0.014962773770093918, 0.005789581220597029, 0.014546756632626057, -0.005155154038220644, -0.018415721133351326, -0.03508416935801506, 0.007176307495683432, -0.02715209499001503, 0.02093956246972084, 0.0019344828324392438, -0.018138376995921135, 0.01103833969682455, -0.006257601082324982, 0.0022828977089375257, 0.018166111782193184, -0.010379644110798836, 0.01166236586868763, -0.01039351150393486, -0.019483501091599464, 0.00825101975351572, 0.009256396442651749, 0.0013979931827634573, -0.004253782331943512, 0.014657693915069103, 0.010587653145194054, 0.001415327307768166, 0.013056025840342045, -0.00428498350083828, -0.02752651274204254, 0.023615945130586624, -0.011177011765539646, -0.021591324359178543, -0.009395068511366844, -0.00309586594812572, 0.04315491393208504, -0.012549870647490025, 0.014477419666945934, 0.007273378316313028, -0.023699147626757622, -0.0019292825600132346, 0.014338747598230839, -0.005006080958992243, 0.012910419143736362, 0.013014423660933971, 0.04892369359731674, 0.029648203402757645, 0.010123100131750107, -0.01129488367587328, 0.02182706817984581, 0.02752651274204254, 0.014907305128872395, -0.013610715977847576, -0.016446569934487343, -0.008653170429170132, 0.019525103271007538, -0.001898081274703145, -0.0026261124294251204, -0.01995498687028885, 0.02641713060438633, 0.005949054844677448, 0.022478828206658363, -0.017042862251400948, -0.00445485720410943, 0.007703263312578201, 0.020371004939079285, 0.03303181380033493, 0.00832728948444128, 0.0047079348005354404, -0.004142844118177891, 0.006916296202689409, 0.00206275493837893, 0.017528217285871506, 0.03946622461080551, 0.009644679725170135, 0.008576900698244572, -0.01285495050251484, 0.009422803297638893, 0.0005083217401988804, 0.0017143400618806481, 0.0369146466255188, 0.0023609010968357325, 0.01787489838898182, -0.01380485761910677, -0.00022111780708655715, -0.009894290007650852, -0.002948526293039322, 0.0456787571310997, 0.03195016831159592, 0.0038238971028476954, -0.012667742557823658, -0.010476714931428432, -0.009824953973293304, 0.004520726855844259, -0.007162440102547407, 0.013888061046600342, 0.022270821034908295, 0.010143901221454144, 0.029675938189029694, -0.05189128965139389, -0.003633222309872508, -0.0069336299784481525, 0.0027821192052215338, -0.013811791315674782, -6.92279645591043e-05, -0.0004502526135183871, -0.013430441729724407, 0.011627698317170143, 0.0056405081413686275, 0.010885799303650856, 0.01045591477304697, 0.010476714931428432, 0.015503597445786, -0.010005228221416473, 0.011440489441156387, 0.0161969605833292, -0.012265591882169247, 0.0035378849133849144, -0.013610715977847576, 0.014713163487613201, -0.008902781642973423, 0.01833251863718033, 0.03039703518152237, 0.006479477509856224, -0.004683667328208685, 0.0011674499837681651, 0.01100367121398449, 0.0010599787347018719, -0.0003963003109674901, -0.004118576180189848, -0.0007869670516811311, 0.010594586841762066, 0.0016112023731693625, 0.013097627088427544, 0.003052530810236931, -0.013395773246884346, 0.010483648627996445, 0.011378087103366852, 0.009908157400786877, 4.869791882811114e-05, -0.0020540880504995584, -0.0036436226218938828, -0.015808677300810814, 0.030480237677693367, 0.018984278663992882, 0.015517464838922024, -0.014255544170737267, 0.021452652290463448, -0.013139229267835617, 0.012445866130292416, 0.02981461025774479, -0.013555247336626053, 0.026805413886904716, -0.0008281354676000774, -0.01053218450397253, -0.03330915793776512, -0.02357434295117855, 0.007509121671319008, 0.0018842139979824424, 0.0015756674110889435, -0.0005399564397521317, -0.005952521692961454, 0.016016686335206032, 0.002558509586378932, 0.031007194891572, -0.009665480814874172, 0.0030785317067056894, 0.03799629211425781, -0.005422099027782679, -0.010095365345478058, 0.016973527148365974, -0.01974697969853878, -0.010088431648910046, 0.02583470568060875, 0.008500630967319012, -0.00820248480886221, -0.00399377103894949, 0.015295588411390781, 0.008625435642898083, 0.015656137838959694, 0.005734112113714218, -0.004052706994116306, -0.026736078783869743, 0.009922024793922901, 0.0025117076002061367, -0.0005135220126248896, -0.004156711511313915, 0.0007223975844681263, -0.018387988209724426, 0.0030594642739742994, -0.014103003777563572, -0.015559066087007523, -0.01622469536960125, -0.01533718965947628, 0.0030022619757801294, 0.0056405081413686275, -0.046205710619688034, -0.001092046732082963, 0.007703263312578201, -0.010386577807366848, -0.008043010719120502, -0.013631517067551613, 0.021688396111130714, 0.014865702949464321, -0.004319651518017054, -0.03006422147154808, -0.0027561180759221315, -0.0032258713617920876, -0.019122952595353127, 0.0068192253820598125, 0.028705229982733727, 0.014103003777563572, 0.020468076691031456, -0.02149425446987152, -0.00239556934684515, 0.00016380700981244445, -0.009866556152701378, -0.009637746028602123, -0.010982870124280453, -0.010254839435219765, -0.004642065614461899, 0.002045420929789543, -2.3874979888205417e-05, 0.0026469132862985134, 0.00648294435814023, -0.01017856877297163, 0.003986837342381477, 0.03483456000685692, -0.011863441206514835, -0.024281572550535202, 0.00722484290599823, -0.02093956246972084, -0.020925695076584816, -0.0007275977986864746, -0.007606192491948605, 0.01824931427836418, 0.02268683724105358, -0.009374268352985382, -0.014137672260403633, -0.018984278663992882, 0.009110789746046066, -0.0030871988274157047, -0.011988246813416481, -0.0008463362464681268, 0.0037476271390914917, -0.00449992623180151, 0.0016536707989871502, -0.00590051943436265, -0.00216155918315053, 0.005383963696658611, 0.0034338803961873055, 0.010088431648910046, -0.0236020777374506, 0.0021182240452617407, 0.010150834918022156, -0.05105925351381302, -0.017320208251476288, -0.015753207728266716, -0.013347238302230835, 0.012286392971873283, 0.005983722861856222, -0.0033541435841470957, 0.007772599346935749, 0.005945587996393442, 0.014227809384465218, -0.009284131228923798, -0.009055321104824543, -0.012300260365009308, 0.020218465477228165, -0.007724063936620951, 0.002659047255292535, -0.004801538772881031, -0.005491435062140226, 0.003421746427193284, 0.010081497952342033, 0.01779169589281082, 0.004191379528492689, 0.01086499821394682, -0.020038191229104996, -0.009769485332071781, -0.009381202049553394, -0.004784204997122288, -0.012702410109341145, -0.01224479079246521, -0.040270525962114334, -0.023713015019893646, -0.0036401557736098766, -0.013541379943490028, -0.0022378291469067335, -2.0909228624077514e-05, 0.022950315847992897, 0.00019089150009676814, 0.004409788642078638, -0.03738613426685333, -2.654280251590535e-05, 0.0023210328072309494, -0.008805710822343826, 0.004655932541936636, -0.01879013702273369, -0.007703263312578201, 0.010365776717662811, 0.00548796821385622, -0.009637746028602123, 0.0007414650754071772, 0.016432704403996468, -0.010192436166107655, 0.022478828206658363, -0.011572228744626045, -0.005626640748232603, -0.005325028207153082, 0.006659751757979393, -0.018041305243968964, 0.010192436166107655, -0.0020679552108049393, -0.017888765782117844, 0.010476714931428432, -0.0005672576371580362, 0.029426326975226402, 0.00870864000171423, -0.0035742863547056913, 0.0030646645464003086, 0.001033110893331468, -0.0031461347825825214, -0.0071069709956645966, 0.022367890924215317, -0.012549870647490025, 0.008181683719158173, -0.007439785171300173, -0.002204894321039319, 0.002022886648774147, 0.012473600916564465, -0.017223138362169266, 0.0015678671188652515, 0.0027474509552121162, -0.0029814608860760927, 0.0029190583154559135, 0.0019084817031398416, 0.02274230681359768, 0.00864623673260212, 0.014408083632588387, 0.006912829354405403, -0.016612978652119637, 0.02975914068520069, -0.015378791838884354, 0.013000556267797947, -0.00825101975351572, 0.0011509825708344579, 0.00878490973263979, -0.012355729006230831, 0.00685042655095458, -0.006066926289349794, 0.005969855468720198, 0.013555247336626053, -0.01166236586868763, -0.028358547016978264, 0.01132955215871334, 0.007793400436639786, -0.002995328279212117, -0.005335428286343813, 0.0034390806686133146, 0.013998999260365963, -0.023380201309919357, 0.010601520538330078, -0.01964990794658661, 0.0015149981481954455, 0.02464212104678154, 0.0008662704494781792, -0.005359696224331856, 0.014269410632550716, 0.0037164257373660803, -0.022173749282956123, 0.007384316064417362, -0.008472896181046963, 0.01532332319766283, -0.023366333916783333, 0.01781942881643772, 0.002028086921200156, 0.007862736470997334, 0.01797197014093399, 0.005151687189936638, -0.023255396634340286, -0.009159325622022152, 0.018817871809005737, 0.0034772155340760946, -0.00457619596272707, -0.009325732477009296, 0.015961216762661934, 0.015351057052612305, -0.0007856669835746288, -0.007273378316313028, -0.0019431498367339373, -0.004115109331905842, -0.01652977429330349, 0.005321561358869076, -0.009824953973293304, 0.008493697270751, 0.014061401598155499, -0.006365072447806597, -0.015933481976389885, -0.02311672270298004, -0.02326926216483116, -0.009346533566713333, 0.03758027404546738, -0.016918057575821877, -0.011911977082490921, 0.026736078783869743, 0.016266295686364174, -7.377815927611664e-05, 0.012002114206552505, 0.0013919263146817684, 0.0027751855086535215, 0.01573934033513069, 0.006538413465023041, 0.0027318503707647324, 0.02378235198557377, 0.0006929296650923789, -0.0033246756065636873, 0.024295439943671227, -0.020412607118487358, -0.006365072447806597, 0.02114757150411606, -0.005047682672739029, 0.00032523059053346515, 0.01082339696586132, 0.002986661158502102, 4.5772794692311436e-05, -0.0011674499837681651, 0.004832740407437086, -0.007606192491948605, 0.02124464325606823, 0.002596644451841712, -0.005002614110708237, 0.016335632652044296, -0.009249462746083736, -0.009610011242330074, -0.008888914249837399, -0.013985131867229939, -0.0022118280176073313, -0.005307693965733051, -0.015115314163267612, 0.005397831089794636, -0.0008017009822651744, -0.0024007693864405155, 0.004541527945548296, 0.010136967524886131, 0.007127772085368633, 0.008798777125775814, 0.008958250284194946, -0.015351057052612305, 0.008736373856663704, -0.010767927393317223, -0.0030785317067056894, -0.007689395919442177, 0.02231242135167122, 0.009284131228923798, -0.007412050850689411, -0.009374268352985382, -0.004090841859579086, -0.009589210152626038, 0.0015886679757386446, 0.006732555106282234, 0.02075928822159767, 0.030147423967719078, 0.015087579376995564, -0.0029155914671719074, -0.00539436424151063, 0.014477419666945934, -0.02164679393172264, -0.03219977766275406, -0.008077679201960564, 0.0004301017615944147, 0.002865322632715106, 0.0024007693864405155, 0.0118010388687253, -0.009686280973255634, 0.025848573073744774, -0.0015704672550782561, -0.004586596507579088, -0.02626459114253521, -0.007973674684762955, 0.004243381787091494, 0.017375677824020386, -0.0017264739144593477, -0.017181536182761192, 0.006878161337226629, 0.0006149263354018331, -0.029259920120239258, 0.008133147843182087, -0.006975232157856226, 1.2858363334089518e-05, 0.01354831364005804, 0.009187060408294201, -0.0011943178251385689, 0.021480387076735497, 0.007647794205695391, -0.017472747713327408, 0.021813200786709785, -0.016765518113970757, 0.0034564146772027016, -0.015961216762661934, 0.009311865083873272, -0.007647794205695391, 0.024073563516139984, 0.03178375959396362, 0.012515202164649963, -0.014865702949464321, 0.005474100820720196, -0.0039244345389306545, 0.0009490406373515725, 0.001979551510885358, 0.011530627496540546, -0.00832728948444128, 0.0007401650073006749, -0.024711458012461662, 0.012723211199045181, -0.009644679725170135, -0.015864145010709763, 0.013673118315637112, -0.0008207684732042253, -0.017833296209573746, -0.005869317799806595, 0.005238357465714216, 0.016030553728342056, 0.017223138362169266, 0.01885947398841381, -0.028330812230706215, 0.004954078700393438, -0.0057826475240290165, -0.0016588710714131594, 0.006902428809553385, 0.028261477127671242, 0.005404764786362648, -0.015143048018217087, 0.0010963802924379706, -0.005155154038220644, -0.001754208467900753, -0.017500482499599457, 0.025030404329299927, 0.008119281381368637, -0.002265563700348139, -0.01304215844720602, 0.005273025948554277, -0.024877864867448807, 0.017223138362169266, 0.01573934033513069, 0.014824101701378822, 0.005058083217591047, -0.00751605536788702, 0.0026295792777091265, -0.01092740148305893, -0.00959614384919405, 0.010019095614552498, 0.014574490487575531, -0.008445161394774914, -0.01903974823653698, -0.018069040030241013, 0.024073563516139984, 0.011551427654922009, 0.0038238971028476954, 0.0047460696659982204, -0.011045272462069988, 0.005404764786362648, 0.020260067656636238, -0.012002114206552505, 0.0030490639619529247, 0.006573081482201815, -0.0010591120226308703, 0.010123100131750107, 0.006410141009837389, 0.004999147262424231, 0.00017875764751806855, 0.018956545740365982, 6.91196255502291e-05, 0.009512940421700478, -0.012071450240910053, -0.00795980729162693, 0.013097627088427544, -0.011440489441156387, -0.023061254993081093, -0.0010608454467728734, -0.001918882131576538, -0.007013367023319006, 0.014851835556328297, 0.008694772608578205, -0.017985837534070015, -0.012418131344020367, -0.00843129400163889, 0.0029173248913139105, -0.01399206556379795, -0.024350909516215324, -0.011731701903045177, 0.012882685288786888, -0.005144753493368626, -0.003359343856573105, -0.005259158555418253, 0.01794423535466194, 0.010552985593676567, -0.010310308076441288, 0.0026729144155979156, -0.01799970492720604, 0.0006084260530769825, 0.019358696416020393, -0.0010270440252497792, 0.0017888766014948487, 0.006548813544213772, 0.004465257748961449, -0.024434112012386322, -0.003007462015375495, -0.0095822773873806, -0.003751093987375498, -0.00023531007173005491, 0.005387430544942617, -0.020135262981057167, -0.007599258795380592, -0.007266444619745016, -0.0010755794355645776, 0.02007979340851307, 0.022118279710412025, 0.0027301169466227293, 0.0035985540598630905, -0.010448981076478958, 0.015226252377033234, -0.02489173226058483, 0.007578457705676556, -0.0073149800300598145, 0.0059941234067082405, -0.02421223744750023, -0.0021563589107245207, -0.04018732160329819, 0.0003828663902822882, -0.0024805061984807253, -0.016571376472711563, -0.00399377103894949, 0.00825101975351572, 0.0010703791631385684, -0.002553309313952923, 0.01224479079246521, -0.007529922295361757, -0.02464212104678154, 0.00838969275355339, 0.02390715666115284, 0.0213694479316473, 0.01074712723493576, 0.022187616676092148, 0.009485206566751003, -0.007446718867868185, 0.001063445582985878, 0.010511383414268494, 0.004988746717572212, 0.007613126188516617, -0.003388811834156513, 0.0015357991214841604, 0.021840935572981834, 0.017001261934638023, 0.000281028711469844, -0.003910567611455917, -0.011468224227428436, 0.0002959793491754681, 0.01977471262216568, 0.010691657662391663, 0.034973230212926865, -0.020620616152882576, -0.012265591882169247, 0.027803856879472733, 0.011648498475551605, 0.017639154568314552, 0.020273935049772263, -0.0030802651308476925, -0.0038481648080050945, 0.0013468576362356544, -0.017888765782117844, -0.022367890924215317, -0.023740749806165695, -0.02864976041018963, 0.01949736848473549, 0.012972822412848473, -0.0007869670516811311, -0.02342180348932743, 0.02149425446987152, -0.00806381180882454, -0.003014395711943507, 0.002969327149912715, 0.01754208467900753, -0.004309250973165035, 0.0023990359622985125, -0.0032120042014867067, -0.0008134014788083732, 0.006950964219868183, -0.005553837865591049, 0.029426326975226402, 0.0015071978559717536, -0.007169373799115419, 0.009859622456133366, 0.012036781758069992, -0.014491287060081959, -0.029315387830138206, -0.0020072858314961195, 0.0008909715106710792, -0.001277521369047463, -0.014421951025724411, 0.016945792362093925, 0.007828068919479847, 0.00022155114857014269, -0.014921172522008419, 0.013028291054069996, -0.0073149800300598145, 0.014255544170737267, 0.01873466931283474, 0.022978050634264946, 0.005588505882769823, -0.007772599346935749, 0.014026734046638012, -0.0034685484133660793, -0.0184573233127594, -0.006382406689226627, -0.006184798199683428, -0.03885606303811073, 0.00010687540634535253, 0.014935039915144444, 0.01561453565955162, -0.01622469536960125, -0.0051308865658938885, -0.013215498998761177, -0.0005897919181734324, 0.01121861394494772, -0.007800334133207798, -0.006697886623442173, 0.027068892493844032, -0.007176307495683432, -9.919695912685711e-06, 0.011454356834292412, 0.009838821366429329, -0.019386429339647293, -0.002057554665952921, 0.01150982640683651, -0.016016686335206032, 0.03561112657189369, 0.01172476913779974, 0.02023233287036419, -0.020273935049772263, -0.001137115410529077, -0.00047755378182046115, -0.0058485171757638454, 0.009603077545762062, 0.015156915411353111, -0.0009143725037574768, -0.00827875453978777, 0.00416364474222064, 0.008479829877614975, 0.016488172113895416, -0.013076826930046082, 0.0018512792885303497, 0.012785614468157291, 0.016848720610141754, -0.03330915793776512, 0.0056682429276406765, 0.009790285490453243, 0.004229514393955469, -0.00407004076987505, 0.007647794205695391, -0.010802595876157284, 0.00886117946356535, 0.012431998737156391, -0.012522135861217976, 0.012300260365009308, 0.008985985070466995, 0.01489343773573637, 0.00930493138730526, 0.0013555247569456697, 0.006912829354405403, -0.014629960060119629, 0.013617649674415588, -0.018138376995921135, 0.004402855411171913, -0.023255396634340286, 0.008105413988232613, 0.0070376344956457615, 0.008563033305108547, 0.024267705157399178, -0.01738954521715641, -0.018318651244044304, -0.0075368559919297695, -0.00021407582971733063, 0.00032328051747754216, 0.018831739202141762, 0.030896255746483803, 0.006867760792374611, -0.0006123261991888285, -0.005959455389529467, 0.013846459798514843, -0.001424861024133861, -0.006146663334220648, -0.006919763050973415, 0.02552962675690651, 0.002204894321039319, -0.0042121801525354385, -0.001258453936316073, -0.002418103627860546, 0.011135410517454147, -0.02423997037112713, -0.0088334446772933, 0.011891175992786884, -0.0047460696659982204, -0.011461290530860424, -0.01680712029337883, 0.02889937162399292, 0.004257249180227518, 0.01677938550710678, 0.005650908686220646, -0.018318651244044304, 0.03122907131910324, -0.004392454866319895, -0.006413607858121395, 0.0024857064709067345, 0.013971264474093914, -0.013139229267835617, 0.0027127827052026987, 0.005803448613733053, -0.01576707512140274, -0.010351910255849361, -0.005716778337955475, -0.004950611852109432, -0.03416892886161804, 0.021938005462288857, 0.039410755038261414, -0.00352401752024889, 0.013049092143774033, -0.0005863251280970871, 0.014324880205094814, -0.010192436166107655, -0.01922002248466015, -0.02106436900794506, 0.007925139740109444, 0.012272525578737259, -0.027013422921299934, -0.02084249258041382, -0.012771747075021267, -0.023588210344314575, -0.01824931427836418, 0.004215647000819445, -0.00671868771314621, -0.021757731214165688, 0.002931192284449935, -0.0162801630795002, -0.01232106052339077, -0.009831887669861317, -0.007113904692232609, -0.004787671845406294, -0.002166759455576539, 0.002308898838236928, 0.010234038345515728, 0.011523693799972534, -0.013402706943452358, -0.008965183980762959, -0.0051031517796218395, -0.02430930733680725, -0.0016051353886723518, 0.00193794968072325, 0.013215498998761177, 0.0038724325131624937, -0.016474304720759392, -0.03333689272403717, 0.0258069708943367, -0.03122907131910324, 0.012522135861217976, -0.0019466166850179434, -0.00648294435814023, 0.02448958158493042, 0.0023210328072309494, -0.011870374903082848, 0.0023158325348049402, 0.014269410632550716, -0.004728735890239477, 0.021230775862932205, -0.0049956804141402245, -0.011045272462069988, -0.0026382463984191418, -0.013520578853785992, 0.021619059145450592, 0.008361957967281342, 0.0008142681908793747, 0.02403196319937706, -0.02945406176149845, -0.031062662601470947, -0.010081497952342033, 0.01561453565955162, -0.013270968571305275, 0.0028722563292831182, -0.0032848073169589043, -0.010123100131750107, -0.01751434989273548, -0.004187912680208683, -0.03134000673890114, 0.01787489838898182, -0.018415721133351326, 0.05283426120877266, 0.011170078068971634, -0.021757731214165688, -0.011419689282774925, 0.025280015543103218, 0.008424360305070877, 0.005335428286343813, 0.020398739725351334, 0.006181331351399422, -0.0005247891531325877, -0.004971412941813469, 0.008549165911972523, 0.008167816326022148, 0.0184018537402153, 0.004153244663029909, 0.04071427509188652, -0.005553837865591049, -0.008979051373898983, -0.007626993115991354, -0.006621616892516613, 0.025515759363770485, 0.0006448276108130813, -0.021508120000362396, -0.002969327149912715, -0.000989775755442679, 0.0032865407411009073, 0.013236300088465214, -0.027082759886980057, -0.0017819430213421583, 0.002125157741829753, -0.013742455281317234, -0.037053320556879044, -0.004472191445529461, -0.013680052012205124, -0.00915239192545414, 0.019400296732783318, -0.0023210328072309494, 0.016169225797057152, 0.000469320104457438, 0.021938005462288857, -0.0014976641396060586, -0.016363367438316345, -0.006333871278911829, 0.007495254278182983, 0.025085873901844025, 0.006846959702670574, -0.0031721359118819237, 0.00027127828798256814, 0.014421951025724411, -0.008417426608502865, -0.006361605599522591, 0.01582254469394684, 0.01348591037094593, 0.0043161846697330475, -0.017653021961450577, -0.002272497396916151, -0.032920874655246735, 0.0032120042014867067, 0.0088334446772933, 0.025058139115571976, -0.018970413133502007, -0.005637041293084621, 0.0004142844118177891, -0.0006582615314982831, 0.0014525955775752664, 0.017555952072143555, -0.026320060715079308, -0.00973481684923172, -0.02195187285542488, 0.011752502992749214, -0.01769462414085865, 0.029953282326459885, 0.0040665739215910435, 0.005189822055399418, -0.02393489144742489, 0.0047772713005542755, 0.02344953827559948, 0.02458665333688259, 0.0030178625602275133, 0.011835706420242786, 0.005054616369307041, 0.013111494481563568, -0.027776122093200684, 0.013395773246884346, -0.0036782908719033003, 0.012272525578737259, -0.01376325637102127, -0.0025845107156783342, -0.019303226843476295, -0.004052706994116306, -0.0009533741394989192, 0.0053527625277638435, 0.01089966669678688, 0.017028996720910072, 0.03153415024280548, 0.0017065397696569562, -0.0036401557736098766, 0.0028791900258511305, 0.028677495196461678, 0.003816963406279683, 0.007162440102547407, 0.006472543813288212, 0.004579662811011076, 0.004430589731782675, -0.021813200786709785, 0.017861030995845795, -0.0022135614417493343, -0.020260067656636238, 0.010858064517378807, 0.017916500568389893, -0.007398183457553387, 0.01564227044582367, 0.009755617938935757, -0.0019570172298699617, 0.01974697969853878, 0.00897211767733097, 0.0007769999210722744, 0.010774861089885235, -0.007321913726627827, 0.030618911609053612, 0.001856479444541037, 0.018970413133502007, 0.012452799826860428, 0.019483501091599464, 0.01756981946527958, -0.01668231375515461, -0.012633074074983597, 0.022201484069228172, -0.004766870755702257, -0.0060322582721710205, 0.004832740407437086, 0.008244086056947708, 0.01809677481651306, -0.006975232157856226, 0.00650374498218298, 0.013201631605625153, 0.004822339862585068, -0.018069040030241013, 0.011683166958391666, -0.010046830400824547, -0.003948702476918697, 0.01799970492720604, -0.009318798780441284, 0.01708446443080902, 0.021078236401081085, -0.01931709423661232, 0.0053146276623010635, -0.005370096769183874, -0.0004127676656935364, 0.008791843429207802, -0.0037476271390914917, 0.012730144895613194, 0.008188617415726185, -0.007730997633188963, -0.002496106782928109, -0.009935892187058926, 0.0063200038857758045, -0.01640496961772442, -0.0018096774583682418, 0.006268001627177, -0.004877808969467878, -0.017167668789625168, -0.013964330777525902, -0.01042124629020691, -0.015780942514538765, 0.022423360496759415, -0.0071416390128433704, 0.0027925195172429085, 0.007363515440374613, 0.018041305243968964, 0.004544994793832302, 0.015586800873279572, -0.023407936096191406, 0.002454505069181323, 0.0018270115833729506, -0.02164679393172264, -0.02081475779414177, -0.034085724502801895, -0.006323470734059811, 0.0057237115688622, 0.013534446246922016, 0.014505154453217983, 0.02225695364177227, 0.003012662287801504, 0.016335632652044296, -0.011163144372403622, 0.010338042862713337, -0.003111466532573104, -0.005789581220597029, 0.036165814846754074, -0.0061085280030965805, 0.0022603634279221296, -0.01372858788818121, 0.0009672414162196219, 0.0001994502090383321, 0.0088334446772933, 0.004191379528492689, -0.018041305243968964, 0.01163463108241558, -0.010046830400824547, -0.007009900175035, 0.002830654615536332, 0.0008537032408639789, 0.00791127234697342, -0.021203041076660156, 0.007897404953837395, -0.0026937152724713087, 0.004676733631640673, 0.017833296209573746, 0.016446569934487343, 0.004909010138362646, 0.027235299348831177, -0.012230923399329185, -0.021868670359253883, 0.01282721571624279, -0.011655432172119617, 0.014012866653501987, -0.005331961438059807, -0.008112347684800625, 0.004961012396961451, -0.013492844067513943, 0.009381202049553394, 0.007952873595058918, 0.00835502427071333, -0.018471190705895424, -0.008493697270751, 0.004465257748961449, -0.006441342644393444, 0.01959443837404251, 0.011246347799897194, -0.021383315324783325, -0.0012801215052604675, 0.011495959013700485, 0.01797197014093399, 0.0072872452437877655, 0.0031998702324926853, 0.0118010388687253, 0.010962069034576416, -0.014962773770093918, 0.023615945130586624, -0.0033316093031316996, -0.03183922916650772, 0.019691510125994682, -0.01078872848302126, -0.003196403617039323, 0.01604442112147808, -0.0017455413471907377, -0.002147692022845149, -1.4557915164914448e-05, -0.011246347799897194, 0.013347238302230835, 0.011454356834292412, 0.017861030995845795, 0.020315537229180336, -0.02060674875974655, 0.0002513440849725157, 0.023921024054288864, 0.004038839600980282, -0.0032484056428074837, 0.007994475774466991, 0.004808472469449043, -0.005942121148109436, -0.0017143400618806481, 0.002303698565810919, 0.004392454866319895, -0.0011856508208438754, -0.015267853625118732, 0.012660808861255646, 0.012695477344095707, -0.005709844641387463, 0.0027283835224807262, 0.0023765016812831163, 0.011204746551811695, -0.0005720244953408837, 0.004735669586807489, 0.015101446770131588, -0.022797776386141777, -0.008556099608540535, 0.006167463958263397, 0.025335485115647316, 0.009069188497960567, -0.007495254278182983, 0.0024978402070701122, 0.01564227044582367, -0.016696181148290634, 0.012182388454675674, 0.011336485855281353, 0.006458676420152187, 0.012723211199045181, -0.0025862441398203373, 0.011253281496465206, -0.010032963007688522, -0.016904190182685852, 0.0030646645464003086, 0.01736181043088436, -0.0013763256138190627, -0.013430441729724407, 0.0028809234499931335, -0.0022378291469067335, 0.006084260530769825, 0.002541175577789545, -0.008056878112256527, -0.002541175577789545, 0.00037853288813494146, -0.01049751602113247, -0.04897916316986084, -0.014643827453255653, -8.233686094172299e-05, -0.006247201003134251, 0.003733759978786111, -0.011537560261785984, -0.0009265063563361764, 0.008625435642898083, 0.011454356834292412, -0.03483456000685692, -0.03322595730423927, -0.022950315847992897, 0.00010633371857693419, -0.0038273639511317015, -0.004770337603986263, 0.0063477386720478535, -0.0038065630942583084, 0.017653021961450577, -0.014054468832910061, -0.003009195439517498, -6.771123298676684e-05, 0.017486615106463432, 0.024503448978066444, -0.009159325622022152, -0.029065778478980064, -0.002125157741829753, 0.0034338803961873055, 0.009970560669898987, 0.006555747240781784, 0.011357286013662815, -0.011301817372441292, 0.011045272462069988, 0.005345828831195831, 0.013631517067551613, 0.012071450240910053, 0.007661661598831415, 0.005935187451541424, 0.0033333427272737026, -0.013686985708773136, 0.0228116437792778, -0.011565295048058033, 0.007550723385065794, 0.009353467263281345, 0.003154801670461893, 0.013562181033194065, -0.017833296209573746, -0.006330404430627823, -0.0325048565864563, 0.012411197647452354, 0.005435965955257416, 0.015628403052687645, 0.0006530613172799349, -0.025293882936239243, 0.00441672233864665, -0.010483648627996445, -0.003014395711943507, -0.017070597037672997, 0.006337338127195835, 0.00843129400163889, 0.004108176100999117, -0.005713311489671469, 0.00024007694446481764, 0.03602714091539383, 0.008244086056947708, -0.011350352317094803, -0.006805357988923788, 0.004988746717572212, 0.002416370203718543, -0.008459028787910938, 0.006163997109979391, 0.01010229904204607, 0.012251724489033222, 5.224598862696439e-05, 0.024115165695548058, 0.0010045096278190613, 0.009942825883626938, -0.002984927734360099, 0.012508268468081951, -0.0008550032507628202, 0.02317219227552414, 0.002182360040023923, 0.023130590096116066, 0.0011908509768545628, -0.005401297938078642, -0.019358696416020393, 0.007349648047238588, -0.008334223181009293, 0.008625435642898083, -0.0005607573548331857, -0.01567000336945057, 0.01078872848302126, 0.009679348208010197, -0.018928810954093933, -0.019053615629673004, 0.012182388454675674, -0.005709844641387463, -0.006614683195948601, -0.018595995381474495, 0.008597701787948608, 0.016820987686514854, 0.014213941991329193, 0.021189173683524132, -0.014990508556365967, -0.011794105172157288, -0.01076099369674921, 0.008923581801354885, 0.009686280973255634, 0.022797776386141777, -0.007835001684725285, 0.013534446246922016, 0.0023175659589469433, -0.009138524532318115, -0.0016268029576167464, -0.028178272768855095, -0.005893585737794638, -0.004572729114443064, -0.01406833529472351, 0.007925139740109444, 0.007474453188478947, 0.0008567366749048233, 0.010476714931428432, -0.01597508415579796, -0.019414164125919342, 0.010032963007688522, 0.005155154038220644, -0.015115314163267612, -0.005033815745264292, 0.007405117154121399, 0.002170226303860545, 0.012348795309662819, 0.007321913726627827, 0.04357093200087547, -0.014574490487575531, 0.0016701382119208574, -0.02045420929789543, 0.021383315324783325, 0.007939006201922894, 0.0010582453105598688, -0.01928935945034027, 0.004226047545671463, 0.035222843289375305, -0.004569262266159058, -0.00817475002259016, 0.00959614384919405, 0.010123100131750107, 0.0040665739215910435, 0.004753003362566233, 0.015586800873279572, 0.04063107445836067, -0.004083908163011074, -0.0025134410243481398, 0.0010001761838793755, 0.014394216239452362, -0.0013321236474439502, -0.0008836045162752271, -0.005467167589813471, 0.017223138362169266, 0.009859622456133366, -0.01460222527384758, -0.0016302698059007525, 0.024198370054364204, -0.01744501292705536, -0.0002987961343023926, 0.003385344985872507, -0.0018287450075149536, 0.02390715666115284, 0.01024097204208374, -0.01974697969853878, -0.012265591882169247, -0.013000556267797947, -0.006001057103276253, 0.001298322225920856, -0.019608305767178535, 0.010781794786453247, -0.010414312593638897, -0.007689395919442177, -0.03330915793776512, -0.005650908686220646, 0.016668446362018585, 0.0020922229159623384, -0.02570990100502968, 0.024323174729943275, -0.010331109166145325, 0.010123100131750107, -0.012230923399329185, 0.02035713754594326, 0.007765665650367737, 0.012397331185638905, 0.03455721214413643, -0.017153801396489143, -0.005508769303560257, 0.021632926538586617, -0.007613126188516617, -0.012716277502477169, -0.0071069709956645966, -0.028705229982733727, -0.009991360828280449, -0.014546756632626057, 0.00039413353078998625, 0.0009152392158284783, 0.010213237255811691, 0.016973527148365974, 0.009138524532318115, -0.012986689805984497, -0.006417074706405401, -0.00802221056073904, -0.010095365345478058, 0.0016874722205102444, -0.013582981191575527, -0.002955459989607334, 0.033198222517967224, -5.338353730621748e-05, 0.01042124629020691, 0.01129488367587328, -0.018443455919623375, 0.0018876808462664485, 0.017958102747797966, 0.01754208467900753, 0.04667719826102257, -0.01267467625439167, -0.0022326288744807243, 0.02106436900794506, -0.028788432478904724, 0.02387942187488079, 0.004798071924597025, 0.0008714706636965275, -0.033503301441669464, -0.017347943037748337, -0.00860463548451662, -0.012688543647527695, 0.007765665650367737, -0.0031686690635979176, 0.013978198170661926, -0.02093956246972084, -0.011620764620602131, 0.010941268876194954, 0.015961216762661934, 0.02124464325606823, 0.007758732419461012, -0.0005395230837166309, -0.0014811967266723514, -0.005127419717609882, -0.012716277502477169, 0.01797197014093399, -0.01460222527384758, 0.018263181671500206, -0.020523546263575554, 0.009096923284232616, 0.011315684765577316, 0.003654023166745901, -0.013374973088502884, 0.00987348984926939, -0.005383963696658611, -0.004659399390220642, -0.00046238646609708667, 0.008826510980725288, -0.018082907423377037, 0.0020956897642463446, 0.01532332319766283, 0.014338747598230839, 0.005311160814017057, -0.0035361514892429113, -0.009263330139219761, -0.009242529049515724, 0.01668231375515461, 0.023380201309919357, 0.014324880205094814, -0.014671561308205128, 0.009623878635466099, 0.00615359703078866, -0.008070745505392551, -0.0042468486353755, 0.028816167265176773, 0.005824249237775803, 0.014421951025724411, -0.008188617415726185, 0.007467519957572222, 0.012133852578699589, 0.02045420929789543, 0.002619178732857108, 0.005279959179461002, 0.005002614110708237, 0.0047114016488194466, -0.004857007879763842, -0.007418984547257423, -0.0021390249021351337, -0.011572228744626045, -0.011502892710268497, -0.014976641163229942, -0.0031409345101565123, -0.017015129327774048, -0.002946792868897319, 0.009297997690737247, -0.005959455389529467, -0.0046732667833566666, 0.0024805061984807253, 0.027568113058805466, -0.0028115869499742985, 0.006548813544213772, -0.019400296732783318, 0.0019344828324392438, 0.009970560669898987, -0.005484501365572214, -0.00012047182826790959, 0.007100037299096584, 0.004794605076313019, -0.01216852106153965, 0.0021390249021351337, -0.0015323322732001543, 0.008930515497922897, -0.023699147626757622, -0.00022068445105105639, 0.009138524532318115, 0.012494402006268501, 0.0012133852578699589, -0.01155836135149002, 0.012203189544379711, -0.024988804012537003, 0.01817997917532921, 0.023865554481744766, 0.02265910431742668, -0.0033298758789896965, 0.00020183363812975585, 0.0015418659895658493, 0.006084260530769825, -0.006039191968739033, 0.0014863969990983605, -0.003088932251557708, 0.005799981765449047, 0.02479466237127781, 0.019913386553525925, 0.019733112305402756, -0.023560475558042526, 0.013264034874737263, -0.033198222517967224], 'metadata': {'Product Name': 'Women Cotton Block Printed Kurta Pant With Dupatta', 'Brand Name': 139, 'Rating': '4.1 out of 5 stars', 'Rating Count': '1,438', 'Price (INR)': '₹599.0', 'Original Price (INR)': '₹4999.0', 'Discount': '88% off'}, 'createdAt': '2025-06-09T08:25:27.656853Z'}\n"
     ]
    }
   ],
   "source": [
    "import json\n",
    "\n",
    "with open('./product_embeddings/product_embeddings2.json', 'r') as f:\n",
    "    data = json.load(f)\n",
    "\n",
    "# Print the first item for a quick check\n",
    "print(data[0])\n"
   ]
  },
  {
   "cell_type": "code",
   "execution_count": null,
   "id": "582c0718-de1a-4feb-b08c-d8dbfefa1beb",
   "metadata": {},
   "outputs": [],
   "source": []
  }
 ],
 "metadata": {
  "kernelspec": {
   "display_name": "Python 3 (ipykernel)",
   "language": "python",
   "name": "python3"
  },
  "language_info": {
   "codemirror_mode": {
    "name": "ipython",
    "version": 3
   },
   "file_extension": ".py",
   "mimetype": "text/x-python",
   "name": "python",
   "nbconvert_exporter": "python",
   "pygments_lexer": "ipython3",
   "version": "3.12.3"
  }
 },
 "nbformat": 4,
 "nbformat_minor": 5
}
