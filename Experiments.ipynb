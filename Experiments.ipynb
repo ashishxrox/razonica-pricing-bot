{
 "cells": [
  {
   "cell_type": "code",
   "execution_count": 1,
   "id": "b8def783-56ad-447b-8457-8a5e56219c76",
   "metadata": {},
   "outputs": [],
   "source": [
    "import pandas as pd"
   ]
  },
  {
   "cell_type": "code",
   "execution_count": 2,
   "id": "8895796a-c30e-44ab-bd63-158e65930ae6",
   "metadata": {},
   "outputs": [
    {
     "data": {
      "text/html": [
       "<div>\n",
       "<style scoped>\n",
       "    .dataframe tbody tr th:only-of-type {\n",
       "        vertical-align: middle;\n",
       "    }\n",
       "\n",
       "    .dataframe tbody tr th {\n",
       "        vertical-align: top;\n",
       "    }\n",
       "\n",
       "    .dataframe thead th {\n",
       "        text-align: right;\n",
       "    }\n",
       "</style>\n",
       "<table border=\"1\" class=\"dataframe\">\n",
       "  <thead>\n",
       "    <tr style=\"text-align: right;\">\n",
       "      <th></th>\n",
       "      <th>Product Details</th>\n",
       "      <th>About This Item</th>\n",
       "      <th>All Bullet Points</th>\n",
       "      <th>Additional Details</th>\n",
       "      <th>Brand Snapshot</th>\n",
       "      <th>Product and Seller Details</th>\n",
       "      <th>Product Description</th>\n",
       "    </tr>\n",
       "  </thead>\n",
       "  <tbody>\n",
       "    <tr>\n",
       "      <th>0</th>\n",
       "      <td>{'Material composition': 'Cotton', 'Pattern': ...</td>\n",
       "      <td>{}</td>\n",
       "      <td>['Pack Contains: 1 Oversized Fit T-Shirt', 'Pa...</td>\n",
       "      <td>{'Country of Origin': 'India', 'Manufacturer':...</td>\n",
       "      <td>{'Brand Name': 'Veirdo', 'Top Brand Heading': ...</td>\n",
       "      <td>{}</td>\n",
       "      <td>NaN</td>\n",
       "    </tr>\n",
       "  </tbody>\n",
       "</table>\n",
       "</div>"
      ],
      "text/plain": [
       "                                     Product Details About This Item  \\\n",
       "0  {'Material composition': 'Cotton', 'Pattern': ...              {}   \n",
       "\n",
       "                                   All Bullet Points  \\\n",
       "0  ['Pack Contains: 1 Oversized Fit T-Shirt', 'Pa...   \n",
       "\n",
       "                                  Additional Details  \\\n",
       "0  {'Country of Origin': 'India', 'Manufacturer':...   \n",
       "\n",
       "                                      Brand Snapshot  \\\n",
       "0  {'Brand Name': 'Veirdo', 'Top Brand Heading': ...   \n",
       "\n",
       "  Product and Seller Details  Product Description  \n",
       "0                         {}                  NaN  "
      ]
     },
     "execution_count": 2,
     "metadata": {},
     "output_type": "execute_result"
    }
   ],
   "source": [
    "df = pd.read_csv('./SampleData/product_data.csv')\n",
    "df"
   ]
  },
  {
   "cell_type": "code",
   "execution_count": 3,
   "id": "a7769737-d2fd-4d42-8a3b-0301fbdc2b3a",
   "metadata": {},
   "outputs": [
    {
     "data": {
      "text/html": [
       "<div>\n",
       "<style scoped>\n",
       "    .dataframe tbody tr th:only-of-type {\n",
       "        vertical-align: middle;\n",
       "    }\n",
       "\n",
       "    .dataframe tbody tr th {\n",
       "        vertical-align: top;\n",
       "    }\n",
       "\n",
       "    .dataframe thead th {\n",
       "        text-align: right;\n",
       "    }\n",
       "</style>\n",
       "<table border=\"1\" class=\"dataframe\">\n",
       "  <thead>\n",
       "    <tr style=\"text-align: right;\">\n",
       "      <th></th>\n",
       "      <th>Product Details</th>\n",
       "      <th>About This Item</th>\n",
       "      <th>All Bullet Points</th>\n",
       "      <th>Additional Details</th>\n",
       "      <th>Brand Snapshot</th>\n",
       "      <th>Product and Seller Details</th>\n",
       "      <th>Product Description</th>\n",
       "      <th>Source URL</th>\n",
       "    </tr>\n",
       "  </thead>\n",
       "  <tbody>\n",
       "    <tr>\n",
       "      <th>0</th>\n",
       "      <td>{'Material composition': 'Cotton', 'Pattern': ...</td>\n",
       "      <td>{}</td>\n",
       "      <td>['Pack Contains: 1 Oversized Fit T-Shirt', 'Pa...</td>\n",
       "      <td>{'Country of Origin': 'India', 'Manufacturer':...</td>\n",
       "      <td>{'Brand Name': 'Veirdo', 'Top Brand Heading': ...</td>\n",
       "      <td>{}</td>\n",
       "      <td>NaN</td>\n",
       "      <td>https://www.amazon.in/Veirdo%C2%AEBlack-Oversi...</td>\n",
       "    </tr>\n",
       "    <tr>\n",
       "      <th>1</th>\n",
       "      <td>{'Material composition': '100% Cotton', 'Fit t...</td>\n",
       "      <td>{'Fabric Info': '✅Premium Heavy Cotton: Experi...</td>\n",
       "      <td>['✅100% Cotton Material: Nobero’s Men oversize...</td>\n",
       "      <td>{'Country of Origin': 'India', 'Manufacturer':...</td>\n",
       "      <td>{'Brand Name': 'NOBERO', 'Top Brand Heading': ...</td>\n",
       "      <td>{}</td>\n",
       "      <td>Upgrade your casual wardrobe with the Nobero O...</td>\n",
       "      <td>https://www.amazon.in/NOBERO-Mens-Oversized-T-...</td>\n",
       "    </tr>\n",
       "  </tbody>\n",
       "</table>\n",
       "</div>"
      ],
      "text/plain": [
       "                                     Product Details  \\\n",
       "0  {'Material composition': 'Cotton', 'Pattern': ...   \n",
       "1  {'Material composition': '100% Cotton', 'Fit t...   \n",
       "\n",
       "                                     About This Item  \\\n",
       "0                                                 {}   \n",
       "1  {'Fabric Info': '✅Premium Heavy Cotton: Experi...   \n",
       "\n",
       "                                   All Bullet Points  \\\n",
       "0  ['Pack Contains: 1 Oversized Fit T-Shirt', 'Pa...   \n",
       "1  ['✅100% Cotton Material: Nobero’s Men oversize...   \n",
       "\n",
       "                                  Additional Details  \\\n",
       "0  {'Country of Origin': 'India', 'Manufacturer':...   \n",
       "1  {'Country of Origin': 'India', 'Manufacturer':...   \n",
       "\n",
       "                                      Brand Snapshot  \\\n",
       "0  {'Brand Name': 'Veirdo', 'Top Brand Heading': ...   \n",
       "1  {'Brand Name': 'NOBERO', 'Top Brand Heading': ...   \n",
       "\n",
       "  Product and Seller Details  \\\n",
       "0                         {}   \n",
       "1                         {}   \n",
       "\n",
       "                                 Product Description  \\\n",
       "0                                                NaN   \n",
       "1  Upgrade your casual wardrobe with the Nobero O...   \n",
       "\n",
       "                                          Source URL  \n",
       "0  https://www.amazon.in/Veirdo%C2%AEBlack-Oversi...  \n",
       "1  https://www.amazon.in/NOBERO-Mens-Oversized-T-...  "
      ]
     },
     "execution_count": 3,
     "metadata": {},
     "output_type": "execute_result"
    }
   ],
   "source": [
    "df2 = pd.read_csv('./SampleData/product_data2.csv')\n",
    "df2"
   ]
  },
  {
   "cell_type": "code",
   "execution_count": null,
   "id": "029ef815-5d10-4d45-a5fd-584511def11c",
   "metadata": {},
   "outputs": [],
   "source": []
  }
 ],
 "metadata": {
  "kernelspec": {
   "display_name": "Python 3 (ipykernel)",
   "language": "python",
   "name": "python3"
  },
  "language_info": {
   "codemirror_mode": {
    "name": "ipython",
    "version": 3
   },
   "file_extension": ".py",
   "mimetype": "text/x-python",
   "name": "python",
   "nbconvert_exporter": "python",
   "pygments_lexer": "ipython3",
   "version": "3.12.3"
  }
 },
 "nbformat": 4,
 "nbformat_minor": 5
}
